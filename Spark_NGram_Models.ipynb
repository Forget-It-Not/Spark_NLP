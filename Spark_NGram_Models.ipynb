{
 "cells": [
  {
   "cell_type": "markdown",
   "metadata": {
    "id": "Exq3RAhi5pAS"
   },
   "source": [
    "# Análisis y generación de texto mediante procesos estocásticos\n",
    "\n",
    "*Guillermo Hoyo Bravo y Marcos Martínez Jiménez*\n",
    "\n",
    "---"
   ]
  },
  {
   "cell_type": "markdown",
   "metadata": {
    "id": "Cjzr2A6t8vMZ"
   },
   "source": [
    "## **INTRODUCCIÓN**\n",
    "\n",
    "El procesamiento de lenguaje natural ha sido históricamente una de las tareas pendientes de los sistemas informáticos hasta el reciente auge de la ciencia de datos, el machine learning y disciplinas afines. \n",
    "\n",
    "A día de hoy se utilizan herramientas muy sofisticadas, como redes neuronales profundas, para resolver tareas de traducción, text to spech, etc. Sin embargo, algunas técnicas mucho más sencillas también obtienen muy buenos resultados para problemas concretos. \n"
   ]
  },
  {
   "cell_type": "markdown",
   "metadata": {
    "id": "6-Dx4Mgots1K"
   },
   "source": [
    "### Objetivo:\n",
    "\n",
    "En esta práctica se explorará la modelización de distintos idiomas mediante procesos estocásticos discretos con el objetivo de:\n",
    "\n",
    "* Producir un generador aleatorio de nuevas palabras de ese idioma, es decir, palabras con características similares a las de ese idioma.\n",
    "\n",
    "* Producir un generador aleatorio de frases de ese idioma a partir de palabras reales.\n",
    "\n",
    "* Clasificar palabras en distintos idiomas en función de sus características. Detectar palabras que han sido prestadas de otro idioma.\n",
    "\n",
    "* Clasificar frases en distintos idiomas y valorar lo correctas / plausibles que son."
   ]
  },
  {
   "cell_type": "markdown",
   "metadata": {
    "id": "XnC-Ppbstt8e"
   },
   "source": [
    "### Procesos estocásticos discretos:\n",
    "\n",
    "Un proceso estocástico discreto se puede definir como una variable aleatoria $X_t$ con una distribución $P(X_t=x)$ que puede depender de $t\\in \\mathbb{N}$. A su vez, una trayectoria del proceso corresponde a una secuencia concreta de valores $(X_1,...,X_t)$ que procede de esa distribución.\n",
    "\n",
    "Una palabra / frase se puede entender como un proceso estocástico discreto donde $X_t$ representa el símbolo presente en la posición $t$ (una letra o una palabra respectivamente). Así, una palabra o frase concreta corresponde a una trayectoria del proceso.\n",
    "\n",
    "Una forma sencilla de capturar la dependencia frente a $t$ del proceso es aproximar $P(X_t=x)$ como una función únicamente de los $k$ símbolos que aparecen en la trayectoria antes de la posición $t$:\n",
    "\n",
    "$P(X_t=x | X_{t-1}, ..., X_{t-k})$\n",
    "\n",
    "donde $k$ corresponde al orden de la aproximación. Bajo esta formulación existe una probabilidad de transición entre todos los posibles $X_{t-1}, ..., X_{t-k}$ a todos los posibles $X_t$.\n",
    "\n",
    "\n",
    "Además, el proceso estocástico se puede plantear de 2 formas:\n",
    "\n",
    "1. El símbolo $X_t$ corresponde a las letras de una palabra, de forma que se manejan probabilidades de transición entre letras y las trayectorias modeladas son palabras.\n",
    "\n",
    "2. El símbolo $X_t$ corresponde a las palabras de una frase, de forma que se manejan probabilidades de transición entre palabras y las trayectorias modeladas son frases.\n",
    "\n",
    "\n",
    "Finalmente, el modelo resultante se puede aplicar de 2 maneras:\n",
    "\n",
    "1. Generación de nuevas trayectorias (palabras o frases) de acuerdo a las probabilidades de transición estimadas.\n",
    "\n",
    "2. Estimación de la verosimilitud de una trayectoria (probabilidad de obtenerla asumiendo que los datos siguen el modelo; plausibilidad de que siga el modelo) de acuerdo a las probabilidades de transición estimadas. "
   ]
  },
  {
   "cell_type": "markdown",
   "metadata": {
    "id": "8jU8gQS-t6dl"
   },
   "source": [
    "### Ajuste del modelo y datasets de entrenamiento\n",
    "\n",
    "El ajuste del modelo descrito anteriormente consiste únicamente en medir dos tipos de frecuencias en uno o varios textos:\n",
    "1. Frecuencias de transición entre todos los posibles $X_{t-1}, ..., X_{t-k}$ a todos los posibles $X_t$. Probabilidad con la que un grupo de símbolos de tamaño k es sucedido por otro símbolo.\n",
    "\n",
    "2. Frecuencias iniciales de todos los posibles $X_{t-1}, ..., X_{t-k}$. Probabilidad con la que se encuentra un grupo de símbolos al principio de una trayectoria (las probabilidades de transición no aplican en ese caso porque no hay un grupo previo de símbolos).\n",
    "\n",
    "En este trabajo se considerarán 2 idiomas, inglés y español, a través de un dataset (comúnmente llamado corpus en lingüistica) de textos para cada uno: \n",
    "* Muestra gratuita del ***NOW Corpus Español*** ([en linea]: https://www.corpusdelespanol.org/now/).\n",
    "* Muestra gratuita del ***Corpus of Contemporary American English*** ([en linea]: https://www.english-corpora.org/coca/).\n",
    "\n",
    "Ambos corpus incluyen multitud de textos de distintos formatos. Las versiones utilizadas en el trabajo sufrieron un ligero preprocesamiento previo para separar las entradas por líneas y se pueden encontrar en el documento de la entrega (dentro de corpus.zip).\n",
    "\n",
    "En el caso de la aproximación por palabras se utilizaron versiones reducidas de ambos datasets (dentro de corpus.zip), ya que el número de posibles combinaciones de palabras crece mucho más rápidamente que el de letras. \n"
   ]
  },
  {
   "cell_type": "markdown",
   "metadata": {
    "id": "-DeMd_Ak8vb1"
   },
   "source": [
    "## **IMPLEMENTACIÓN**"
   ]
  },
  {
   "cell_type": "markdown",
   "metadata": {
    "id": "A-oFJCxS8vh0"
   },
   "source": [
    "### 0. Entorno PySpark y Drive"
   ]
  },
  {
   "cell_type": "markdown",
   "metadata": {
    "id": "8khflgLg7huo"
   },
   "source": [
    "Instalación y carga de PySpark"
   ]
  },
  {
   "cell_type": "code",
   "execution_count": null,
   "metadata": {
    "id": "7GymatZA5it5"
   },
   "outputs": [],
   "source": [
    "!apt-get install openjdk-8-jdk-headless -qq > /dev/null"
   ]
  },
  {
   "cell_type": "code",
   "execution_count": null,
   "metadata": {
    "id": "x1s5NpTx7Kug"
   },
   "outputs": [],
   "source": [
    "!wget -q https://downloads.apache.org/spark/spark-3.1.2/spark-3.1.2-bin-hadoop2.7.tgz"
   ]
  },
  {
   "cell_type": "code",
   "execution_count": null,
   "metadata": {
    "id": "BK79N8Ru7LEJ"
   },
   "outputs": [],
   "source": [
    "!tar xf spark-3.1.2-bin-hadoop2.7.tgz"
   ]
  },
  {
   "cell_type": "code",
   "execution_count": null,
   "metadata": {
    "colab": {
     "base_uri": "https://localhost:8080/"
    },
    "id": "o0NCRo3q7R_w",
    "outputId": "02bfdf4d-ed0a-4a4f-968a-1d1a16bbde10"
   },
   "outputs": [
    {
     "name": "stdout",
     "output_type": "stream",
     "text": [
      "\u001b[K     |████████████████████████████████| 281.3 MB 42 kB/s \n",
      "\u001b[K     |████████████████████████████████| 198 kB 60.4 MB/s \n",
      "\u001b[?25h  Building wheel for pyspark (setup.py) ... \u001b[?25l\u001b[?25hdone\n"
     ]
    }
   ],
   "source": [
    "!pip install -q pyspark"
   ]
  },
  {
   "cell_type": "code",
   "execution_count": null,
   "metadata": {
    "id": "XOJnrd2B7VXt"
   },
   "outputs": [],
   "source": [
    "import os # libreria de manejo del sistema operativo\n",
    "os.environ[\"JAVA_HOME\"] = \"/usr/lib/jvm/java-8-openjdk-amd64\"\n",
    "os.environ[\"SPARK_HOME\"] = \"/content/spark-3.1.2-bin-hadoop2.7\""
   ]
  },
  {
   "cell_type": "code",
   "execution_count": null,
   "metadata": {
    "colab": {
     "base_uri": "https://localhost:8080/",
     "height": 219
    },
    "id": "inovcsAM7WWs",
    "outputId": "99acb6b4-0273-408f-b3fe-ca0fe0814f81"
   },
   "outputs": [
    {
     "data": {
      "text/html": [
       "\n",
       "            <div>\n",
       "                <p><b>SparkSession - in-memory</b></p>\n",
       "                \n",
       "        <div>\n",
       "            <p><b>SparkContext</b></p>\n",
       "\n",
       "            <p><a href=\"http://f5e76d6f6e01:4040\">Spark UI</a></p>\n",
       "\n",
       "            <dl>\n",
       "              <dt>Version</dt>\n",
       "                <dd><code>v3.1.2</code></dd>\n",
       "              <dt>Master</dt>\n",
       "                <dd><code>local[*]</code></dd>\n",
       "              <dt>AppName</dt>\n",
       "                <dd><code>PDGE-tutorialSpark1</code></dd>\n",
       "            </dl>\n",
       "        </div>\n",
       "        \n",
       "            </div>\n",
       "        "
      ],
      "text/plain": [
       "<pyspark.sql.session.SparkSession at 0x7f6f3dca42d0>"
      ]
     },
     "execution_count": 6,
     "metadata": {},
     "output_type": "execute_result"
    }
   ],
   "source": [
    "from pyspark.sql import SparkSession\n",
    "\n",
    "APP_NAME = \"PDGE-tutorialSpark1\"\n",
    "SPARK_URL = \"local[*]\"\n",
    "spark = SparkSession.builder.appName(APP_NAME).master(SPARK_URL).getOrCreate()\n",
    "spark"
   ]
  },
  {
   "cell_type": "code",
   "execution_count": null,
   "metadata": {
    "id": "w8_ek1Rh7YPR"
   },
   "outputs": [],
   "source": [
    "sc = spark.sparkContext"
   ]
  },
  {
   "cell_type": "markdown",
   "metadata": {
    "id": "XgHn07H-7ln_"
   },
   "source": [
    "Mount del directorio de Drive con los datasets.\n",
    "\n",
    "Para ejecutar correctamente subir los ficheros adicionales al drive que se use."
   ]
  },
  {
   "cell_type": "code",
   "execution_count": null,
   "metadata": {
    "colab": {
     "base_uri": "https://localhost:8080/"
    },
    "id": "LduyAptq8Am1",
    "outputId": "e80ad42d-e91e-4718-cf66-5a0c0b6579e8"
   },
   "outputs": [
    {
     "name": "stdout",
     "output_type": "stream",
     "text": [
      "Mounted at /content/gdrive\n"
     ]
    }
   ],
   "source": [
    "from google.colab import drive\n",
    "drive.mount('/content/gdrive')"
   ]
  },
  {
   "cell_type": "markdown",
   "metadata": {
    "id": "MKgwKgzVQBhP"
   },
   "source": [
    "Otros módulos:"
   ]
  },
  {
   "cell_type": "code",
   "execution_count": null,
   "metadata": {
    "id": "3dTca3oSQDuD"
   },
   "outputs": [],
   "source": [
    "import numpy as np\n",
    "import pandas as pd\n",
    "import time\n",
    "import pickle"
   ]
  },
  {
   "cell_type": "markdown",
   "metadata": {
    "id": "JaBoYRNMTD-h"
   },
   "source": [
    "### 1. Carga de los corpus y preprocesamiento"
   ]
  },
  {
   "cell_type": "markdown",
   "metadata": {
    "id": "vI0Eczx7T954"
   },
   "source": [
    "Los corpus están en formato de texto plano, con las frases separadas por lineas y los distintos textos uno a continuación del otro, ya que este modelo trabaja como mucho con frases y no diferencia entre textos."
   ]
  },
  {
   "cell_type": "code",
   "execution_count": null,
   "metadata": {
    "colab": {
     "base_uri": "https://localhost:8080/"
    },
    "id": "ppz1E-4gTL2h",
    "outputId": "7ca07125-1e5d-4e3f-8ce8-b8190238ebd6"
   },
   "outputs": [
    {
     "data": {
      "text/plain": [
       "['Gran convocatoria para el concurso docente que se realiza en la Escuela Normal Con una inmensa convocatoria de docentes , convocada desde la 7.30 de este lunes en el salón de actos de la Escuela Normal Mariano Moreno , se realizó la primera jornada de el concurso para titularización de los cargos',\n",
       " 'El día comenzó con las palabras de bienvenidas de las autoridades , quienes hablaron de cientos de docentes que presentaron sus documentos que deben ser analizados por las autoridades',\n",
       " 'Los cargos fueron 138 , pero esa suma se incrementó debido a que muchos realizaron cambio de escuelas , abriendo otras oportunidades',\n",
       " 'Las jornadas continuaran este martes debido , precisamente , a el enorme número de docentes presentes',\n",
       " 'Estuvieron , la presidenta de el CGE , Graciela Bar , el profesor Héctor de la Fuente , vocal de presidencia , el secretario general de Agmer Fabián Peccín y la directora Departamental de Escuela , María del Carmen Tourfini de Córdoba']"
      ]
     },
     "execution_count": 10,
     "metadata": {},
     "output_type": "execute_result"
    }
   ],
   "source": [
    "!cp \"/content/gdrive/My Drive/now_esp_full.txt\" .\n",
    "esp_corpus = sc.textFile(\"now_esp_full.txt\")\n",
    "esp_corpus.take(5)"
   ]
  },
  {
   "cell_type": "code",
   "execution_count": null,
   "metadata": {
    "colab": {
     "base_uri": "https://localhost:8080/"
    },
    "id": "ZXGkQvl4Ur0E",
    "outputId": "f777ebf7-9658-48c0-bff6-6c673d1b1a65"
   },
   "outputs": [
    {
     "data": {
      "text/plain": [
       "['I think it is safe to say that ours is the only dining room in West Los Angeles on whose table -- an eight-foot-long , two-hundred-pound behemoth on which I have taken my meals for many years -- rest piles of photocopies of articles on suicide , all of which were printed in the Encyclopaedia Britannica over the past 220 years',\n",
       " 'They represent the convergence of two crucially important strands in my own life',\n",
       " 'Indeed , as I look at the articles , arrayed before me in fanlike tiers , I get the odd feeling that the old oak ruble on which I have eaten so many thousands of dinners has been set not with its customary china and silver but with my intellectual autobiography',\n",
       " 'My special relationship with the Britannica is of long standing',\n",
       " 'It is relevant to report that I was a sickly child and stayed home from school a great deal']"
      ]
     },
     "execution_count": 11,
     "metadata": {},
     "output_type": "execute_result"
    }
   ],
   "source": [
    "!cp \"/content/gdrive/My Drive/coca_eng_full.txt\" .\n",
    "eng_corpus = sc.textFile(\"coca_eng_full.txt\")\n",
    "eng_corpus.take(5)"
   ]
  },
  {
   "cell_type": "code",
   "execution_count": null,
   "metadata": {
    "colab": {
     "base_uri": "https://localhost:8080/"
    },
    "id": "KCkn3qfFq9Mi",
    "outputId": "90f6590d-69f4-4df0-c865-9a8c6f2f2d0a"
   },
   "outputs": [
    {
     "data": {
      "text/plain": [
       "['Gran convocatoria para el concurso docente que se realiza en la Escuela Normal Con una inmensa convocatoria de docentes ',\n",
       " ', convocada desde la 7.30 de este lunes en el salón de actos de la Escuela Normal Mariano Moreno , se realizó la primera jornada de el concurso para titularización de los cargos ',\n",
       " 'El día comenzó con las palabras de bienvenidas de las autoridades , quienes hablaron de cientos de docentes que presentaron sus documentos que deben ser analizados por las autoridades ',\n",
       " 'Los cargos fueron 138 , pero esa suma se incrementó debido a que muchos realizaron cambio de escuelas , abriendo otras oportunidades ',\n",
       " 'Las jornadas continuaran este martes debido , precisamente , a el enorme número de docentes presentes ']"
      ]
     },
     "execution_count": 12,
     "metadata": {},
     "output_type": "execute_result"
    }
   ],
   "source": [
    "!cp \"/content/gdrive/My Drive/now_esp_words.txt\" .\n",
    "esp_corpus_words = sc.textFile(\"now_esp_words.txt\")\n",
    "esp_corpus_words.take(5)"
   ]
  },
  {
   "cell_type": "code",
   "execution_count": null,
   "metadata": {
    "colab": {
     "base_uri": "https://localhost:8080/"
    },
    "id": "5AaF8ATkrKs7",
    "outputId": "87630f7a-6973-479f-87ea-b043e84957b7"
   },
   "outputs": [
    {
     "data": {
      "text/plain": [
       "['I think it is safe to say that ours is the only dining room in West Los Angeles on whose table -- an eight-foot-long , two-hundred-pound behemoth on which I have taken my meals for many years -- rest piles of photocopies of articles on suicide , all of which were printed in the Encyclopaedia Britannica over the past 220 years ',\n",
       " 'They represent the convergence of two crucially important strands in my own life ',\n",
       " 'Indeed , as I look at the articles , arrayed before me in fanlike tiers , I get the odd feeling that the old oak ruble on which I have eaten so many thousands of dinners has been set not with its customary china and silver but with my intellectual autobiography ',\n",
       " 'My special relationship with the Britannica is of long standing ',\n",
       " 'It is relevant to report that I was a sickly child and stayed home from school a great deal ']"
      ]
     },
     "execution_count": 13,
     "metadata": {},
     "output_type": "execute_result"
    }
   ],
   "source": [
    "!cp \"/content/gdrive/My Drive/coca_eng_words.txt\" .\n",
    "eng_corpus_words = sc.textFile(\"coca_eng_words.txt\")\n",
    "eng_corpus_words.take(5)"
   ]
  },
  {
   "cell_type": "markdown",
   "metadata": {
    "id": "iyrTbV10AErE"
   },
   "source": [
    "Preprocesamiento: \n",
    "* *Paso a minúsculas*: incluir las mayúsculas puede dar lugar a un resultado más fiel al lenguaje, pero aumenta la complejidad y no aporta información realmente relevante. \n",
    "\n",
    "* Eliminación de todos los símbolos que no sean letras: deben ser eliminados a la hora de modelizar palabras y también simplifica la modelización de frases.\n",
    "\n",
    "* Eliminación de lineas vacías: necesario en varias etapas del proceso para evitar errores en etapas posteriores.\n",
    "\n",
    "* Eliminación de espacios al principio de las líneas y adición de espacios al final. En la aproximación por letras es necesario porque los espacios marcan el final de las palabras y en la de palabras porque separa la última palabra del newline.\n",
    "\n",
    "* Adición de newline al final de las lineas en la aproximación por palabras, ya que marcan el final de las frases."
   ]
  },
  {
   "cell_type": "code",
   "execution_count": null,
   "metadata": {
    "id": "YkmxHYM3WMGv"
   },
   "outputs": [],
   "source": [
    "### Eliminación de símbolos que no son letras y paso a minúsculas\n",
    "### mediante una regla REGEX sencilla\n",
    "\n",
    "import re\n",
    "\n",
    "clean_symb = lambda l: re.sub('[\\W_0-9]+', ' ', l.lower())\n",
    "esp_corpus = esp_corpus.map(clean_symb)\n",
    "eng_corpus = eng_corpus.map(clean_symb)\n",
    "esp_corpus_words = esp_corpus_words.map(clean_symb)\n",
    "eng_corpus_words = eng_corpus_words.map(clean_symb)"
   ]
  },
  {
   "cell_type": "code",
   "execution_count": null,
   "metadata": {
    "colab": {
     "base_uri": "https://localhost:8080/"
    },
    "id": "_ACjjhvRWOkE",
    "outputId": "a4ee7587-e60c-42a2-d43e-ca4696008204"
   },
   "outputs": [
    {
     "data": {
      "text/plain": [
       "['gran convocatoria para el concurso docente que se realiza en la escuela normal con una inmensa convocatoria de docentes convocada desde la de este lunes en el salón de actos de la escuela normal mariano moreno se realizó la primera jornada de el concurso para titularización de los cargos',\n",
       " 'el día comenzó con las palabras de bienvenidas de las autoridades quienes hablaron de cientos de docentes que presentaron sus documentos que deben ser analizados por las autoridades',\n",
       " 'los cargos fueron pero esa suma se incrementó debido a que muchos realizaron cambio de escuelas abriendo otras oportunidades',\n",
       " 'las jornadas continuaran este martes debido precisamente a el enorme número de docentes presentes',\n",
       " 'estuvieron la presidenta de el cge graciela bar el profesor héctor de la fuente vocal de presidencia el secretario general de agmer fabián peccín y la directora departamental de escuela maría del carmen tourfini de córdoba']"
      ]
     },
     "execution_count": 15,
     "metadata": {},
     "output_type": "execute_result"
    }
   ],
   "source": [
    "esp_corpus.take(5)"
   ]
  },
  {
   "cell_type": "code",
   "execution_count": null,
   "metadata": {
    "colab": {
     "base_uri": "https://localhost:8080/"
    },
    "id": "mNanZjk0tVYV",
    "outputId": "8b42f799-cd30-4fd2-c0ca-d1328f29f55f"
   },
   "outputs": [
    {
     "data": {
      "text/plain": [
       "['gran convocatoria para el concurso docente que se realiza en la escuela normal con una inmensa convocatoria de docentes ',\n",
       " ' convocada desde la de este lunes en el salón de actos de la escuela normal mariano moreno se realizó la primera jornada de el concurso para titularización de los cargos ',\n",
       " 'el día comenzó con las palabras de bienvenidas de las autoridades quienes hablaron de cientos de docentes que presentaron sus documentos que deben ser analizados por las autoridades ',\n",
       " 'los cargos fueron pero esa suma se incrementó debido a que muchos realizaron cambio de escuelas abriendo otras oportunidades ',\n",
       " 'las jornadas continuaran este martes debido precisamente a el enorme número de docentes presentes ']"
      ]
     },
     "execution_count": 16,
     "metadata": {},
     "output_type": "execute_result"
    }
   ],
   "source": [
    "esp_corpus_words.take(5)"
   ]
  },
  {
   "cell_type": "code",
   "execution_count": null,
   "metadata": {
    "colab": {
     "base_uri": "https://localhost:8080/"
    },
    "id": "N2ZqXCI_WaBr",
    "outputId": "fbb494ce-018a-4007-a596-36b467b6afd3"
   },
   "outputs": [
    {
     "data": {
      "text/plain": [
       "['i think it is safe to say that ours is the only dining room in west los angeles on whose table an eight foot long two hundred pound behemoth on which i have taken my meals for many years rest piles of photocopies of articles on suicide all of which were printed in the encyclopaedia britannica over the past years',\n",
       " 'they represent the convergence of two crucially important strands in my own life',\n",
       " 'indeed as i look at the articles arrayed before me in fanlike tiers i get the odd feeling that the old oak ruble on which i have eaten so many thousands of dinners has been set not with its customary china and silver but with my intellectual autobiography',\n",
       " 'my special relationship with the britannica is of long standing',\n",
       " 'it is relevant to report that i was a sickly child and stayed home from school a great deal']"
      ]
     },
     "execution_count": 17,
     "metadata": {},
     "output_type": "execute_result"
    }
   ],
   "source": [
    "eng_corpus.take(5)"
   ]
  },
  {
   "cell_type": "code",
   "execution_count": null,
   "metadata": {
    "colab": {
     "base_uri": "https://localhost:8080/"
    },
    "id": "4qUeMkcTtUtK",
    "outputId": "aaa93e01-28e4-46af-b690-1faeee3c288c"
   },
   "outputs": [
    {
     "data": {
      "text/plain": [
       "['i think it is safe to say that ours is the only dining room in west los angeles on whose table an eight foot long two hundred pound behemoth on which i have taken my meals for many years rest piles of photocopies of articles on suicide all of which were printed in the encyclopaedia britannica over the past years ',\n",
       " 'they represent the convergence of two crucially important strands in my own life ',\n",
       " 'indeed as i look at the articles arrayed before me in fanlike tiers i get the odd feeling that the old oak ruble on which i have eaten so many thousands of dinners has been set not with its customary china and silver but with my intellectual autobiography ',\n",
       " 'my special relationship with the britannica is of long standing ',\n",
       " 'it is relevant to report that i was a sickly child and stayed home from school a great deal ']"
      ]
     },
     "execution_count": 18,
     "metadata": {},
     "output_type": "execute_result"
    }
   ],
   "source": [
    "eng_corpus_words.take(5)"
   ]
  },
  {
   "cell_type": "markdown",
   "metadata": {
    "id": "6iniS4eWWhxy"
   },
   "source": [
    "La eliminación de números produce algunas frases incorrectas pero no son frecuentes asi que no deberían afectar demasiado a los resultados."
   ]
  },
  {
   "cell_type": "code",
   "execution_count": null,
   "metadata": {
    "id": "l6kUMtYE8b1k"
   },
   "outputs": [],
   "source": [
    "### Eliminación de líneas vacías y espacios\n",
    "\n",
    "# Filtrado de líneas vacías del input\n",
    "esp_corpus = esp_corpus.filter(lambda l: len(l)>0)\n",
    "eng_corpus = eng_corpus.filter(lambda l: len(l)>0)\n",
    "esp_corpus_words = esp_corpus_words.filter(lambda l: len(l)>0)\n",
    "eng_corpus_words = eng_corpus_words.filter(lambda l: len(l)>0)\n",
    "\n",
    "# Eliminación de espacios al principio (si hay un espacio toma el resto de la linea)\n",
    "esp_corpus = esp_corpus.map(lambda l: l[1:] if l[0]==\" \" else l)\n",
    "eng_corpus = eng_corpus.map(lambda l: l[1:] if l[0]==\" \" else l)\n",
    "esp_corpus_words = esp_corpus_words.map(lambda l: l[1:] if l[0]==\" \" else l)\n",
    "eng_corpus_words = eng_corpus_words.map(lambda l: l[1:] if l[0]==\" \" else l)\n",
    "\n",
    "# Filtrado de las líneas vacías generadas (líneas con solo espacio)\n",
    "esp_corpus = esp_corpus.filter(lambda l: len(l)>0)\n",
    "eng_corpus = eng_corpus.filter(lambda l: len(l)>0)\n",
    "esp_corpus_words = esp_corpus_words.filter(lambda l: len(l)>0)\n",
    "eng_corpus_words = eng_corpus_words.filter(lambda l: len(l)>0)\n",
    "\n",
    "# Adición de espacio al final si no estaba presente\n",
    "esp_corpus = esp_corpus.map(lambda l: l+\" \" if l[-1]!=\" \" else l)\n",
    "eng_corpus = eng_corpus.map(lambda l: l+\" \" if l[-1]!=\" \" else l)\n",
    "esp_corpus_words = esp_corpus_words.map(lambda l: l+\" \" if l[-1]!=\" \" else l)\n",
    "eng_corpus_words = eng_corpus_words.map(lambda l: l+\" \" if l[-1]!=\" \" else l)\n",
    "\n",
    "# Filtrado de las líneas que solo tienen un espacio\n",
    "esp_corpus = esp_corpus.filter(lambda l: l[0]!=\" \")\n",
    "eng_corpus = eng_corpus.filter(lambda l: l[0]!=\" \")\n",
    "esp_corpus_words = esp_corpus_words.filter(lambda l: l[0]!=\" \")\n",
    "eng_corpus_words = eng_corpus_words.filter(lambda l: l[0]!=\" \")\n",
    "\n",
    "# Adición de newline al final si no estaba presente (para palabras)\n",
    "esp_corpus_words = esp_corpus_words.map(lambda l: l+\"\\n\" if l[-1]!=\"\\n\" else l)\n",
    "eng_corpus_words = eng_corpus_words.map(lambda l: l+\"\\n\" if l[-1]!=\"\\n\" else l)"
   ]
  },
  {
   "cell_type": "code",
   "execution_count": null,
   "metadata": {
    "colab": {
     "base_uri": "https://localhost:8080/"
    },
    "id": "6gSLD4upRz0S",
    "outputId": "ea07673c-9fd3-4cf1-e7dc-c7833b9fd625"
   },
   "outputs": [
    {
     "data": {
      "text/plain": [
       "['gran convocatoria para el concurso docente que se realiza en la escuela normal con una inmensa convocatoria de docentes convocada desde la de este lunes en el salón de actos de la escuela normal mariano moreno se realizó la primera jornada de el concurso para titularización de los cargos ',\n",
       " 'el día comenzó con las palabras de bienvenidas de las autoridades quienes hablaron de cientos de docentes que presentaron sus documentos que deben ser analizados por las autoridades ',\n",
       " 'los cargos fueron pero esa suma se incrementó debido a que muchos realizaron cambio de escuelas abriendo otras oportunidades ',\n",
       " 'las jornadas continuaran este martes debido precisamente a el enorme número de docentes presentes ',\n",
       " 'estuvieron la presidenta de el cge graciela bar el profesor héctor de la fuente vocal de presidencia el secretario general de agmer fabián peccín y la directora departamental de escuela maría del carmen tourfini de córdoba ']"
      ]
     },
     "execution_count": 20,
     "metadata": {},
     "output_type": "execute_result"
    }
   ],
   "source": [
    "esp_corpus.take(5)"
   ]
  },
  {
   "cell_type": "code",
   "execution_count": null,
   "metadata": {
    "colab": {
     "base_uri": "https://localhost:8080/"
    },
    "id": "wPfzoPPrst_m",
    "outputId": "f6ed2df5-92df-423c-aae6-63dc909a7b73"
   },
   "outputs": [
    {
     "data": {
      "text/plain": [
       "['gran convocatoria para el concurso docente que se realiza en la escuela normal con una inmensa convocatoria de docentes \\n',\n",
       " 'convocada desde la de este lunes en el salón de actos de la escuela normal mariano moreno se realizó la primera jornada de el concurso para titularización de los cargos \\n',\n",
       " 'el día comenzó con las palabras de bienvenidas de las autoridades quienes hablaron de cientos de docentes que presentaron sus documentos que deben ser analizados por las autoridades \\n',\n",
       " 'los cargos fueron pero esa suma se incrementó debido a que muchos realizaron cambio de escuelas abriendo otras oportunidades \\n',\n",
       " 'las jornadas continuaran este martes debido precisamente a el enorme número de docentes presentes \\n']"
      ]
     },
     "execution_count": 21,
     "metadata": {},
     "output_type": "execute_result"
    }
   ],
   "source": [
    "esp_corpus_words.take(5)"
   ]
  },
  {
   "cell_type": "code",
   "execution_count": null,
   "metadata": {
    "colab": {
     "base_uri": "https://localhost:8080/"
    },
    "id": "r43FT7OSYRgu",
    "outputId": "4ab33db0-88e7-47f6-b17e-d45f7d9e2f25"
   },
   "outputs": [
    {
     "data": {
      "text/plain": [
       "['i think it is safe to say that ours is the only dining room in west los angeles on whose table an eight foot long two hundred pound behemoth on which i have taken my meals for many years rest piles of photocopies of articles on suicide all of which were printed in the encyclopaedia britannica over the past years ',\n",
       " 'they represent the convergence of two crucially important strands in my own life ',\n",
       " 'indeed as i look at the articles arrayed before me in fanlike tiers i get the odd feeling that the old oak ruble on which i have eaten so many thousands of dinners has been set not with its customary china and silver but with my intellectual autobiography ',\n",
       " 'my special relationship with the britannica is of long standing ',\n",
       " 'it is relevant to report that i was a sickly child and stayed home from school a great deal ']"
      ]
     },
     "execution_count": 22,
     "metadata": {},
     "output_type": "execute_result"
    }
   ],
   "source": [
    "eng_corpus.take(5)"
   ]
  },
  {
   "cell_type": "code",
   "execution_count": null,
   "metadata": {
    "colab": {
     "base_uri": "https://localhost:8080/"
    },
    "id": "-xWOF9A1tkPt",
    "outputId": "04669763-924a-4281-a2b1-22b3ad174ae6"
   },
   "outputs": [
    {
     "data": {
      "text/plain": [
       "['i think it is safe to say that ours is the only dining room in west los angeles on whose table an eight foot long two hundred pound behemoth on which i have taken my meals for many years rest piles of photocopies of articles on suicide all of which were printed in the encyclopaedia britannica over the past years \\n',\n",
       " 'they represent the convergence of two crucially important strands in my own life \\n',\n",
       " 'indeed as i look at the articles arrayed before me in fanlike tiers i get the odd feeling that the old oak ruble on which i have eaten so many thousands of dinners has been set not with its customary china and silver but with my intellectual autobiography \\n',\n",
       " 'my special relationship with the britannica is of long standing \\n',\n",
       " 'it is relevant to report that i was a sickly child and stayed home from school a great deal \\n']"
      ]
     },
     "execution_count": 23,
     "metadata": {},
     "output_type": "execute_result"
    }
   ],
   "source": [
    "eng_corpus_words.take(5)"
   ]
  },
  {
   "cell_type": "markdown",
   "metadata": {
    "id": "y1XZEWL78JoO"
   },
   "source": [
    "### 2. Cálculo de las aproximaciones por letras de orden $1,...n$"
   ]
  },
  {
   "cell_type": "markdown",
   "metadata": {
    "id": "rG4c39TFGSJi"
   },
   "source": [
    "Aproximación de orden 0:\n",
    "\n",
    "En este caso las frecuencias iniciales son la primera letra de cada palabra y las \"frecuencias de transición\" son simplemente la frecuencia de cada letra en el texto.\n",
    "\n",
    "\n",
    "Para calcular las frecuencias iniciales separamos las líneas en palabras con split en base al espacio y un flatmap. A continuación se necesita una etapa de filtrado para eliminar las líneas vacías correspondientes al espacio de final de línea."
   ]
  },
  {
   "cell_type": "code",
   "execution_count": null,
   "metadata": {
    "colab": {
     "base_uri": "https://localhost:8080/"
    },
    "id": "FxvNpuf-N3wD",
    "outputId": "eb8967eb-9edd-4288-9d04-05e4f1ba5fe8"
   },
   "outputs": [
    {
     "data": {
      "text/plain": [
       "['gran',\n",
       " 'convocatoria',\n",
       " 'para',\n",
       " 'el',\n",
       " 'concurso',\n",
       " 'docente',\n",
       " 'que',\n",
       " 'se',\n",
       " 'realiza',\n",
       " 'en']"
      ]
     },
     "execution_count": 27,
     "metadata": {},
     "output_type": "execute_result"
    }
   ],
   "source": [
    "words = esp_corpus.flatMap(lambda l: l.split(\" \"))\n",
    "words = words.filter(lambda l: len(l) > 0)\n",
    "words.take(10)"
   ]
  },
  {
   "cell_type": "markdown",
   "metadata": {
    "id": "DCZxiaAVYGn6"
   },
   "source": [
    "Para calcular la frecuencia se utilizará de forma general la estrategia de convertir el RDD en clave-valor y agregar por clave"
   ]
  },
  {
   "cell_type": "code",
   "execution_count": null,
   "metadata": {
    "colab": {
     "base_uri": "https://localhost:8080/"
    },
    "id": "LBWWvN0-OCvv",
    "outputId": "6d9f4b5d-bb28-4733-e354-f50fc232abbe"
   },
   "outputs": [
    {
     "data": {
      "text/plain": [
       "[('e', 254686),\n",
       " ('d', 213676),\n",
       " ('l', 175517),\n",
       " ('p', 159600),\n",
       " ('c', 149573),\n",
       " ('a', 144862),\n",
       " ('s', 136704),\n",
       " ('m', 95159),\n",
       " ('q', 81647),\n",
       " ('t', 73359)]"
      ]
     },
     "execution_count": 19,
     "metadata": {},
     "output_type": "execute_result"
    }
   ],
   "source": [
    "first_lett_freq = words.map(lambda l: (l[0], 1))\n",
    "first_lett_freq = first_lett_freq.reduceByKey(lambda a,b: a+b)\n",
    "first_lett_freq.takeOrdered(10, key = lambda a: -a[1])"
   ]
  },
  {
   "cell_type": "markdown",
   "metadata": {
    "id": "s6aFZyVhY1hs"
   },
   "source": [
    "También es necesario calcular el total de palabras para normalizar las probabilidades."
   ]
  },
  {
   "cell_type": "code",
   "execution_count": null,
   "metadata": {
    "colab": {
     "base_uri": "https://localhost:8080/"
    },
    "id": "GYVlC0IvYrHv",
    "outputId": "896b84e6-de06-4f3e-b50e-aa7444211b3c"
   },
   "outputs": [
    {
     "data": {
      "text/plain": [
       "1961391"
      ]
     },
     "execution_count": 20,
     "metadata": {},
     "output_type": "execute_result"
    }
   ],
   "source": [
    "num_words = first_lett_freq.map(lambda l: l[1])\n",
    "num_words = num_words.reduce(lambda a,b: a+b)\n",
    "num_words"
   ]
  },
  {
   "cell_type": "markdown",
   "metadata": {
    "id": "SWQmscIPYdi8"
   },
   "source": [
    "\n",
    "El resultado final, la lista de símbolos y sus frecuencias, se guarda temporalmente en formato array. Posteriormente se definirá una clase muy simple para agrupar ambos objetos en el mismo nombre."
   ]
  },
  {
   "cell_type": "code",
   "execution_count": null,
   "metadata": {
    "id": "aFLFj2NRaxM4"
   },
   "outputs": [],
   "source": [
    "l0 = pd.DataFrame(first_lett_freq.collect())\n",
    "l0 = l0.sort_values(by=0)\n",
    "init_key_0, init_prob_0 = np.array(l0[0]), l0[1].to_numpy()/num_words"
   ]
  },
  {
   "cell_type": "code",
   "execution_count": null,
   "metadata": {
    "colab": {
     "base_uri": "https://localhost:8080/"
    },
    "id": "unlpXc79bHeQ",
    "outputId": "d41ac6cf-c540-4796-9711-c83ecb7f0ba4"
   },
   "outputs": [
    {
     "data": {
      "text/plain": [
       "(array(['a', 'b', 'c', 'd', 'e', 'f', 'g', 'h', 'i', 'j'], dtype=object),\n",
       " array([0.07385677, 0.01250898, 0.07625863, 0.10894105, 0.12984968,\n",
       "        0.01788527, 0.01184822, 0.02421394, 0.02046711, 0.00556442]))"
      ]
     },
     "execution_count": 22,
     "metadata": {},
     "output_type": "execute_result"
    }
   ],
   "source": [
    "init_key_0[:10], init_prob_0[:10]"
   ]
  },
  {
   "cell_type": "markdown",
   "metadata": {
    "id": "8twZxkncZwGa"
   },
   "source": [
    "Por otro lado, para calcular las frecuencias de transición separamos las líneas en símbolos y realizamos un proceso de agregación similar al realizado previamente."
   ]
  },
  {
   "cell_type": "code",
   "execution_count": null,
   "metadata": {
    "colab": {
     "base_uri": "https://localhost:8080/"
    },
    "id": "KGzuKzzdZ8oh",
    "outputId": "99194ca7-b403-4f25-e4df-ca40659928fd"
   },
   "outputs": [
    {
     "data": {
      "text/plain": [
       "['g', 'r', 'a', 'n', ' ', 'c', 'o', 'n', 'v', 'o']"
      ]
     },
     "execution_count": 23,
     "metadata": {},
     "output_type": "execute_result"
    }
   ],
   "source": [
    "lett_freq = esp_corpus.flatMap(lambda l: list(l))\n",
    "lett_freq.take(10)"
   ]
  },
  {
   "cell_type": "code",
   "execution_count": null,
   "metadata": {
    "colab": {
     "base_uri": "https://localhost:8080/"
    },
    "id": "AjqBAQyaaQ7b",
    "outputId": "ee9b888e-5cab-482c-eee5-8aede26b824e"
   },
   "outputs": [
    {
     "data": {
      "text/plain": [
       "[(' ', 1961391),\n",
       " ('e', 1254870),\n",
       " ('a', 1076909),\n",
       " ('o', 795735),\n",
       " ('s', 699374),\n",
       " ('n', 652376),\n",
       " ('r', 599396),\n",
       " ('i', 585763),\n",
       " ('l', 492608),\n",
       " ('d', 454923)]"
      ]
     },
     "execution_count": 24,
     "metadata": {},
     "output_type": "execute_result"
    }
   ],
   "source": [
    "lett_freq = lett_freq.map(lambda l: (l,1))\n",
    "lett_freq = lett_freq.reduceByKey(lambda a,b: a+b)\n",
    "lett_freq.takeOrdered(10, key = lambda a: -a[1])"
   ]
  },
  {
   "cell_type": "code",
   "execution_count": null,
   "metadata": {
    "colab": {
     "base_uri": "https://localhost:8080/"
    },
    "id": "0Fg1U3X9azcJ",
    "outputId": "ef5f27bc-a7a2-47a3-cb42-2aded1874c39"
   },
   "outputs": [
    {
     "data": {
      "text/plain": [
       "11244198"
      ]
     },
     "execution_count": 25,
     "metadata": {},
     "output_type": "execute_result"
    }
   ],
   "source": [
    "num_lett = lett_freq.map(lambda l: l[1])\n",
    "num_lett = num_lett.reduce(lambda a,b: a+b)\n",
    "num_lett"
   ]
  },
  {
   "cell_type": "code",
   "execution_count": null,
   "metadata": {
    "id": "w0sQmYvra_4l"
   },
   "outputs": [],
   "source": [
    "l0 = pd.DataFrame(lett_freq.collect())\n",
    "l0 = l0.sort_values(by=0)\n",
    "trans_key_0, trans_prob_0 = np.array(l0[0]), l0[1].to_numpy()/num_lett"
   ]
  },
  {
   "cell_type": "code",
   "execution_count": null,
   "metadata": {
    "colab": {
     "base_uri": "https://localhost:8080/"
    },
    "id": "3g9A9kUbbRxj",
    "outputId": "e3519b46-dfab-4518-b104-3475572559fa"
   },
   "outputs": [
    {
     "data": {
      "text/plain": [
       "(array([' ', 'a', 'b', 'c', 'd', 'e', 'f', 'g', 'h', 'i'], dtype=object),\n",
       " array([0.17443583, 0.09577464, 0.01003086, 0.03711986, 0.04045847,\n",
       "        0.11160156, 0.00634229, 0.00949859, 0.00657753, 0.05209469]))"
      ]
     },
     "execution_count": 27,
     "metadata": {},
     "output_type": "execute_result"
    }
   ],
   "source": [
    "trans_key_0[:10], trans_prob_0[:10]"
   ]
  },
  {
   "cell_type": "markdown",
   "metadata": {
    "id": "xBI464oPTBqA"
   },
   "source": [
    "Aproximación de orden 1:\n",
    "\n",
    "En este caso las frecuencias iniciales son equivalentes a las del caso anterior (por lo que se guardan esos resultados en alias correspondientes para $k=1$) pero las frecuencias de transición son las probabilidades de que una letra $a_m$ sea sucedida por una letra $a_n$, por lo que el resultado se deberá almacenar en formato matricial.\n",
    "\n",
    "A nivel de cálculo se separarán las líneas en pares de símbolos y se agregarán las ocurrencias de $a_m \\rightarrow a_n$."
   ]
  },
  {
   "cell_type": "code",
   "execution_count": null,
   "metadata": {
    "id": "HVvYaWnJcaVx"
   },
   "outputs": [],
   "source": [
    "init_key_1, init_prob_1 = init_key_0, init_prob_0"
   ]
  },
  {
   "cell_type": "code",
   "execution_count": null,
   "metadata": {
    "colab": {
     "base_uri": "https://localhost:8080/"
    },
    "id": "r652m9kFcjMo",
    "outputId": "34d2e9aa-eaee-4a33-ac1f-26442d254e36"
   },
   "outputs": [
    {
     "data": {
      "text/plain": [
       "['gr', 'ra', 'an', 'n ', ' c', 'co', 'on', 'nv', 'vo', 'oc']"
      ]
     },
     "execution_count": 29,
     "metadata": {},
     "output_type": "execute_result"
    }
   ],
   "source": [
    "pair_freq = esp_corpus.flatMap(lambda l: [l[i:i+2] for i in range(len(l)-1)])\n",
    "pair_freq.take(10)"
   ]
  },
  {
   "cell_type": "code",
   "execution_count": null,
   "metadata": {
    "colab": {
     "base_uri": "https://localhost:8080/"
    },
    "id": "xsKclUHxc_NP",
    "outputId": "943d14d5-899a-4be3-e063-c2cc5d4707ee"
   },
   "outputs": [
    {
     "data": {
      "text/plain": [
       "[('e ', 369767),\n",
       " ('a ', 367405),\n",
       " ('s ', 327606),\n",
       " ('o ', 285970),\n",
       " (' e', 238411),\n",
       " ('de', 210567),\n",
       " (' d', 208959),\n",
       " ('en', 206221),\n",
       " ('n ', 197647),\n",
       " ('es', 191557)]"
      ]
     },
     "execution_count": 30,
     "metadata": {},
     "output_type": "execute_result"
    }
   ],
   "source": [
    "pair_freq = pair_freq.map(lambda l: (l,1))\n",
    "pair_freq = pair_freq.reduceByKey(lambda a,b: a+b)\n",
    "pair_freq.takeOrdered(10, key = lambda a: -a[1])"
   ]
  },
  {
   "cell_type": "markdown",
   "metadata": {
    "id": "5l0us8GE0DEI"
   },
   "source": [
    "En este caso la normalización de las frecuencias se hace por filas:\n",
    "\n",
    "$\\sum_n P(a_m\\rightarrow a_n) =1$\n",
    "\n",
    "porque dicha probabilidad es del tipo:\n",
    "$P(X_t=a_n | X_{t-1}=a_m)$\n",
    "y al ser una probabilidad condicionada a $a_m$ debe normalizarse por el número de ocurrencias de $a_m$.\n",
    "\n",
    "La normalización por filas se puede hacer mediante Spark (contando el número de ocurrencias previamente mencionado de forma similar a todos los conteos anteriores), pero es mucho más sencillo hacerlo directamente con numpy ya que las operaciones costosas (el conteo de los grupos de orden $k$) ya están hechas."
   ]
  },
  {
   "cell_type": "code",
   "execution_count": null,
   "metadata": {
    "colab": {
     "base_uri": "https://localhost:8080/",
     "height": 424
    },
    "id": "Ica7bA_XduMP",
    "outputId": "dad090ce-5e9a-4275-8f01-0a83ead22014"
   },
   "outputs": [
    {
     "data": {
      "text/html": [
       "<div>\n",
       "<style scoped>\n",
       "    .dataframe tbody tr th:only-of-type {\n",
       "        vertical-align: middle;\n",
       "    }\n",
       "\n",
       "    .dataframe tbody tr th {\n",
       "        vertical-align: top;\n",
       "    }\n",
       "\n",
       "    .dataframe thead th {\n",
       "        text-align: right;\n",
       "    }\n",
       "</style>\n",
       "<table border=\"1\" class=\"dataframe\">\n",
       "  <thead>\n",
       "    <tr style=\"text-align: right;\">\n",
       "      <th></th>\n",
       "      <th>0</th>\n",
       "      <th>1</th>\n",
       "      <th>2</th>\n",
       "    </tr>\n",
       "  </thead>\n",
       "  <tbody>\n",
       "    <tr>\n",
       "      <th>41</th>\n",
       "      <td></td>\n",
       "      <td>a</td>\n",
       "      <td>137810</td>\n",
       "    </tr>\n",
       "    <tr>\n",
       "      <th>677</th>\n",
       "      <td></td>\n",
       "      <td>b</td>\n",
       "      <td>23470</td>\n",
       "    </tr>\n",
       "    <tr>\n",
       "      <th>4</th>\n",
       "      <td></td>\n",
       "      <td>c</td>\n",
       "      <td>143844</td>\n",
       "    </tr>\n",
       "    <tr>\n",
       "      <th>18</th>\n",
       "      <td></td>\n",
       "      <td>d</td>\n",
       "      <td>208959</td>\n",
       "    </tr>\n",
       "    <tr>\n",
       "      <th>638</th>\n",
       "      <td></td>\n",
       "      <td>e</td>\n",
       "      <td>238411</td>\n",
       "    </tr>\n",
       "    <tr>\n",
       "      <th>...</th>\n",
       "      <td>...</td>\n",
       "      <td>...</td>\n",
       "      <td>...</td>\n",
       "    </tr>\n",
       "    <tr>\n",
       "      <th>1181</th>\n",
       "      <td>ü</td>\n",
       "      <td>y</td>\n",
       "      <td>1</td>\n",
       "    </tr>\n",
       "    <tr>\n",
       "      <th>1133</th>\n",
       "      <td>ü</td>\n",
       "      <td>è</td>\n",
       "      <td>1</td>\n",
       "    </tr>\n",
       "    <tr>\n",
       "      <th>1115</th>\n",
       "      <td>ü</td>\n",
       "      <td>é</td>\n",
       "      <td>2</td>\n",
       "    </tr>\n",
       "    <tr>\n",
       "      <th>423</th>\n",
       "      <td>ü</td>\n",
       "      <td>í</td>\n",
       "      <td>48</td>\n",
       "    </tr>\n",
       "    <tr>\n",
       "      <th>939</th>\n",
       "      <td>ü</td>\n",
       "      <td>ù</td>\n",
       "      <td>17</td>\n",
       "    </tr>\n",
       "  </tbody>\n",
       "</table>\n",
       "<p>1253 rows × 3 columns</p>\n",
       "</div>"
      ],
      "text/plain": [
       "      0  1       2\n",
       "41       a  137810\n",
       "677      b   23470\n",
       "4        c  143844\n",
       "18       d  208959\n",
       "638      e  238411\n",
       "...  .. ..     ...\n",
       "1181  ü  y       1\n",
       "1133  ü  è       1\n",
       "1115  ü  é       2\n",
       "423   ü  í      48\n",
       "939   ü  ù      17\n",
       "\n",
       "[1253 rows x 3 columns]"
      ]
     },
     "execution_count": 31,
     "metadata": {},
     "output_type": "execute_result"
    }
   ],
   "source": [
    "pair_freq = pair_freq.map(lambda l: list(l[0]) + [l[1]])\n",
    "l1 = pd.DataFrame(pair_freq.collect())\n",
    "l1 = l1.sort_values(by=[0,1])\n",
    "l1"
   ]
  },
  {
   "cell_type": "markdown",
   "metadata": {
    "id": "fkljqkuWgEua"
   },
   "source": [
    "A continuación se convierte el DataFrame de 3 columnas a formato matricial, se rellenan las posiciones vacías con 0s y se recoge en formato numpy."
   ]
  },
  {
   "cell_type": "code",
   "execution_count": null,
   "metadata": {
    "id": "sj0N-KqzfsHT"
   },
   "outputs": [],
   "source": [
    "m1 = l1.pivot_table(index=0, columns=1, values=2).fillna(0)\n",
    "trans_keyfrom_1 = np.array(m1.index)\n",
    "trans_keyto_1 = np.array(m1.columns)\n",
    "m1 = m1.to_numpy()\n",
    "m1 = m1/np.sum(m1, axis=1, keepdims=True)\n",
    "trans_prob_1 = m1"
   ]
  },
  {
   "cell_type": "code",
   "execution_count": null,
   "metadata": {
    "colab": {
     "base_uri": "https://localhost:8080/"
    },
    "id": "9dGeCTwCg7Bs",
    "outputId": "9ef957a6-9747-46e6-b375-50898ac4ad3e"
   },
   "outputs": [
    {
     "data": {
      "text/plain": [
       "(array([' ', 'a', 'b', 'c', 'd', 'e', 'f', 'g', 'h', 'i'], dtype=object),\n",
       " array([' ', 'a', 'b', 'c', 'd', 'e', 'f', 'g', 'h', 'i'], dtype=object))"
      ]
     },
     "execution_count": 33,
     "metadata": {},
     "output_type": "execute_result"
    }
   ],
   "source": [
    "trans_keyfrom_1[:10], trans_keyto_1[:10]"
   ]
  },
  {
   "cell_type": "code",
   "execution_count": null,
   "metadata": {
    "colab": {
     "base_uri": "https://localhost:8080/"
    },
    "id": "EG1jTXN-g-vf",
    "outputId": "72caa87b-faac-450d-f99f-eed3d315a51f"
   },
   "outputs": [
    {
     "data": {
      "text/plain": [
       "array([[0.00000000e+00, 7.35128988e-02, 1.25197572e-02, 7.67316552e-02,\n",
       "        1.11466380e-01],\n",
       "       [3.41166245e-01, 4.08576769e-04, 2.73709292e-02, 5.24686858e-02,\n",
       "        7.38474653e-02],\n",
       "       [1.81223346e-02, 1.95302733e-01, 1.35651526e-03, 1.79095479e-03,\n",
       "        1.38311360e-03],\n",
       "       [6.45929518e-03, 1.62081350e-01, 6.22929060e-05, 1.44064325e-02,\n",
       "        4.95947367e-04],\n",
       "       [4.67309852e-02, 1.40652374e-01, 8.57287937e-05, 2.92357168e-04,\n",
       "        3.95671355e-04]])"
      ]
     },
     "execution_count": 34,
     "metadata": {},
     "output_type": "execute_result"
    }
   ],
   "source": [
    "trans_prob_1[:5,:5]"
   ]
  },
  {
   "cell_type": "markdown",
   "metadata": {
    "id": "D1qtleBKhSR-"
   },
   "source": [
    "Clase para agrupar los array de probabilidad de numpy con los array de índices:"
   ]
  },
  {
   "cell_type": "code",
   "execution_count": null,
   "metadata": {
    "id": "xfmR8IpShjXn"
   },
   "outputs": [],
   "source": [
    "class ProbObject:\n",
    "\n",
    "  def __init__(self, prob, keys):\n",
    "    self.p = np.copy(prob)\n",
    "    if type(keys) == list:\n",
    "      self.kf = np.copy(keys[0])\n",
    "      self.kt = np.copy(keys[1])\n",
    "    else:\n",
    "      self.k = np.copy(keys)"
   ]
  },
  {
   "cell_type": "code",
   "execution_count": null,
   "metadata": {
    "colab": {
     "base_uri": "https://localhost:8080/"
    },
    "id": "WjUqwl71h5tk",
    "outputId": "e7da40c3-ba22-472a-9bba-af5e28330d19"
   },
   "outputs": [
    {
     "data": {
      "text/plain": [
       "(array([0.07385677, 0.01250898, 0.07625863, 0.10894105, 0.12984968,\n",
       "        0.01788527, 0.01184822, 0.02421394, 0.02046711, 0.00556442]),\n",
       " array(['a', 'b', 'c', 'd', 'e', 'f', 'g', 'h', 'i', 'j'], dtype=object))"
      ]
     },
     "execution_count": 36,
     "metadata": {},
     "output_type": "execute_result"
    }
   ],
   "source": [
    "init_1 = ProbObject(init_prob_1, init_key_1)\n",
    "init_1.p[:10], init_1.k[:10]"
   ]
  },
  {
   "cell_type": "code",
   "execution_count": null,
   "metadata": {
    "colab": {
     "base_uri": "https://localhost:8080/"
    },
    "id": "dQkmCHMdiG5w",
    "outputId": "ea76d81d-5b9d-4c19-b301-5924e982253a"
   },
   "outputs": [
    {
     "data": {
      "text/plain": [
       "(array([[0.00000000e+00, 7.35128988e-02, 1.25197572e-02, 7.67316552e-02,\n",
       "         1.11466380e-01],\n",
       "        [3.41166245e-01, 4.08576769e-04, 2.73709292e-02, 5.24686858e-02,\n",
       "         7.38474653e-02],\n",
       "        [1.81223346e-02, 1.95302733e-01, 1.35651526e-03, 1.79095479e-03,\n",
       "         1.38311360e-03],\n",
       "        [6.45929518e-03, 1.62081350e-01, 6.22929060e-05, 1.44064325e-02,\n",
       "         4.95947367e-04],\n",
       "        [4.67309852e-02, 1.40652374e-01, 8.57287937e-05, 2.92357168e-04,\n",
       "         3.95671355e-04]]),\n",
       " array([' ', 'a', 'b', 'c', 'd', 'e', 'f', 'g', 'h', 'i'], dtype=object),\n",
       " array([' ', 'a', 'b', 'c', 'd', 'e', 'f', 'g', 'h', 'i'], dtype=object))"
      ]
     },
     "execution_count": 37,
     "metadata": {},
     "output_type": "execute_result"
    }
   ],
   "source": [
    "trans_1 = ProbObject(trans_prob_1, [trans_keyfrom_1, trans_keyto_1])\n",
    "trans_1.p[:5,:5], trans_1.kf[:10], trans_1.kt[:10]"
   ]
  },
  {
   "cell_type": "markdown",
   "metadata": {
    "id": "fjO8Qw22RO1G"
   },
   "source": [
    "Función general para calcular las probabilidades de transición de orden $k$:"
   ]
  },
  {
   "cell_type": "code",
   "execution_count": null,
   "metadata": {
    "id": "FA-7DQnNRR0q"
   },
   "outputs": [],
   "source": [
    "def k_approx_lett(k, corpus_rdd, word_rdd):\n",
    "  '''\n",
    "  Devuelve la lista de claves y frecuencias de las aproximación de orden k a los\n",
    "  datos de un rdd\n",
    "  '''\n",
    "  ### Probabilidades iniciales\n",
    "\n",
    "  # Se omiten las palabras demasiado cortas para el orden deseado\n",
    "  word_rdd = word_rdd.filter(lambda l: len(l) >= k)\n",
    "\n",
    "  # Se toman el grupo de primeras k letras de cada palabra y se agrega\n",
    "  first_group_freq = word_rdd.map(lambda l: (l[:k], 1))\n",
    "  first_group_freq = first_group_freq.reduceByKey(lambda a,b: a+b)\n",
    "\n",
    "  # Se calcula el número de palabras para normalizar\n",
    "  num_words = first_group_freq.map(lambda l: l[1])\n",
    "  num_words = num_words.reduce(lambda a,b: a+b)\n",
    "\n",
    "  # Paso a dataframe y a formato ProbObject\n",
    "  l0 = pd.DataFrame(first_group_freq.collect())\n",
    "  l0 = l0.sort_values(by=0)\n",
    "  init_key, init_prob = np.array(l0[0]), l0[1].to_numpy()/num_words\n",
    "  inits = ProbObject(init_prob, init_key)\n",
    "\n",
    "  ### Probabilidades de transición\n",
    "\n",
    "  # Separación de las líneas en grupos de símbolos de tamaño k+1\n",
    "  group_freq = corpus_rdd.flatMap(lambda l: [l[i:i+k+1] for i in range(len(l)-k)])\n",
    "\n",
    "  # Agregación de acuerdo al grupo de símbolos\n",
    "  group_freq = group_freq.map(lambda l: (l,1))\n",
    "  group_freq = group_freq.reduceByKey(lambda a,b: a+b)\n",
    "\n",
    "  # Paso a dataframe y ProbObject\n",
    "  group_freq = group_freq.map(lambda l: [l[0][:k], l[0][k], l[1]])\n",
    "  dataframe = pd.DataFrame(group_freq.collect())\n",
    "  dataframe = dataframe.sort_values(by=[0,1])\n",
    "  matrix = dataframe.pivot_table(index=0, columns=1, values=2).fillna(0)\n",
    "  keysfrom = np.array(matrix.index)\n",
    "  keysto = np.array(matrix.columns)\n",
    "  matrix = matrix.to_numpy()\n",
    "  trans = ProbObject(matrix/np.sum(matrix, axis=1, keepdims=True), [keysfrom, keysto])\n",
    "\n",
    "  return inits, trans"
   ]
  },
  {
   "cell_type": "markdown",
   "metadata": {
    "id": "lNYCNNVvZpY4"
   },
   "source": [
    "Cálculos en batch para $k$ en $[1,8]$:"
   ]
  },
  {
   "cell_type": "code",
   "execution_count": null,
   "metadata": {
    "colab": {
     "base_uri": "https://localhost:8080/"
    },
    "id": "KOJB3l4Youj5",
    "outputId": "9c020513-0687-4f6c-eedd-8e9259665731"
   },
   "outputs": [
    {
     "name": "stdout",
     "output_type": "stream",
     "text": [
      "Calculando aproximación de orden:  1\n",
      "Calculando aproximación de orden:  2\n",
      "Calculando aproximación de orden:  3\n",
      "Calculando aproximación de orden:  4\n",
      "Calculando aproximación de orden:  5\n",
      "Calculando aproximación de orden:  6\n",
      "Calculando aproximación de orden:  7\n",
      "Calculando aproximación de orden:  8\n",
      "\n",
      "Tiempo total de cálculo: 4.757 minutos\n"
     ]
    }
   ],
   "source": [
    "# El RDD words que se creó en el testeo ya es el del corpus de español\n",
    "esp_words = words \n",
    "\n",
    "esp_stats = {}\n",
    "\n",
    "start = time.time()\n",
    "for i in range(1, 8+1):\n",
    "  print(\"Calculando aproximación de orden: \", i)\n",
    "  esp_stats[i] = k_approx_lett(i, esp_corpus, esp_words)\n",
    "print(f\"\\nTiempo total de cálculo: {round((time.time() - start) / 60, 3)} minutos\")"
   ]
  },
  {
   "cell_type": "markdown",
   "metadata": {
    "id": "8oufmtRQqZ3k"
   },
   "source": [
    "Probabilidades iniciales para el español con orden 2:"
   ]
  },
  {
   "cell_type": "code",
   "execution_count": null,
   "metadata": {
    "colab": {
     "base_uri": "https://localhost:8080/"
    },
    "id": "g0ssosSCqN1H",
    "outputId": "986960bf-6e5f-4da4-81ee-6d974a659c63"
   },
   "outputs": [
    {
     "data": {
      "text/plain": [
       "(array(['aa', 'ab', 'ac', 'ad', 'ae', 'af', 'ag', 'ah', 'ai', 'aj'],\n",
       "       dtype=object),\n",
       " array([2.12003992e-05, 2.01295073e-03, 5.71595379e-03, 2.97512269e-03,\n",
       "        8.53451969e-05, 9.87177564e-04, 1.95859073e-03, 1.28615755e-03,\n",
       "        3.10395589e-04, 1.83736793e-04]))"
      ]
     },
     "execution_count": 29,
     "metadata": {},
     "output_type": "execute_result"
    }
   ],
   "source": [
    "esp_stats[2][0].k[:10], esp_stats[2][0].p[:10] "
   ]
  },
  {
   "cell_type": "markdown",
   "metadata": {
    "id": "hUPJJO9Mqg5T"
   },
   "source": [
    "Probabilidades de transición para el español con orden 2:"
   ]
  },
  {
   "cell_type": "code",
   "execution_count": null,
   "metadata": {
    "colab": {
     "base_uri": "https://localhost:8080/"
    },
    "id": "pCYHGHylqlie",
    "outputId": "03d96c7b-041b-406c-c4ee-5d3638055366"
   },
   "outputs": [
    {
     "data": {
      "text/plain": [
       "(array([' a', ' b', ' c', ' d', ' e', ' f', ' g', ' h', ' i', ' j'],\n",
       "       dtype=object),\n",
       " array([' ', 'a', 'b', 'c', 'd', 'e', 'f', 'g', 'h', 'i'], dtype=object),\n",
       " array([[3.54930702e-01, 2.46716494e-04, 2.61446920e-02, 7.36231043e-02,\n",
       "         3.53167404e-02],\n",
       "        [2.75244994e-02, 2.72816361e-01, 2.64167022e-03, 1.40605028e-03,\n",
       "         1.61908820e-03],\n",
       "        [4.26156114e-03, 1.79201079e-01, 5.56158060e-05, 2.15511248e-04,\n",
       "         7.36909430e-04],\n",
       "        [2.33538637e-03, 2.30475835e-02, 2.87137668e-05, 2.34495762e-04,\n",
       "         1.29211951e-04],\n",
       "        [7.62548708e-03, 1.84555243e-04, 9.39553964e-04, 6.86629392e-03,\n",
       "         9.77723343e-03]]))"
      ]
     },
     "execution_count": 30,
     "metadata": {},
     "output_type": "execute_result"
    }
   ],
   "source": [
    "esp_stats[2][1].kf[:10], esp_stats[2][1].kt[:10], esp_stats[2][1].p[:5,:5] "
   ]
  },
  {
   "cell_type": "code",
   "execution_count": null,
   "metadata": {
    "colab": {
     "base_uri": "https://localhost:8080/"
    },
    "id": "vIOZSm4saQgw",
    "outputId": "4e479802-5e6c-4958-be20-70c86c3dec2a"
   },
   "outputs": [
    {
     "name": "stdout",
     "output_type": "stream",
     "text": [
      "Calculando aproximación de orden:  1\n",
      "Calculando aproximación de orden:  2\n",
      "Calculando aproximación de orden:  3\n",
      "Calculando aproximación de orden:  4\n",
      "Calculando aproximación de orden:  5\n",
      "Calculando aproximación de orden:  6\n",
      "Calculando aproximación de orden:  7\n",
      "Calculando aproximación de orden:  8\n",
      "\n",
      "Tiempo total de cálculo: 8.746 minutos\n"
     ]
    }
   ],
   "source": [
    "eng_words = eng_corpus.flatMap(lambda l: l.split(\" \"))\n",
    "\n",
    "eng_stats = {}\n",
    "\n",
    "start = time.time()\n",
    "for i in range(1, 8+1):\n",
    "  print(\"Calculando aproximación de orden: \", i)\n",
    "  eng_stats[i] = k_approx_lett(i, eng_corpus, eng_words)\n",
    "print(f\"\\nTiempo total de cálculo: {round((time.time() - start) / 60, 3)} minutos\")"
   ]
  },
  {
   "cell_type": "markdown",
   "metadata": {
    "id": "funVflCjq1uv"
   },
   "source": [
    "Probabilidades iniciales para el inglés con orden 2:"
   ]
  },
  {
   "cell_type": "code",
   "execution_count": null,
   "metadata": {
    "colab": {
     "base_uri": "https://localhost:8080/"
    },
    "id": "wgpdgWJlq1uw",
    "outputId": "a4957135-faba-4cb8-8520-b21e1172e207"
   },
   "outputs": [
    {
     "data": {
      "text/plain": [
       "(array(['aa', 'ab', 'ac', 'ad', 'ae', 'af', 'ag', 'ah', 'ai', 'aj'],\n",
       "       dtype=object),\n",
       " array([7.27607868e-05, 3.93538212e-03, 3.90734874e-03, 2.50945969e-03,\n",
       "        9.07147472e-05, 2.24393007e-03, 2.70947311e-03, 1.84579312e-04,\n",
       "        8.69979624e-04, 1.70090151e-05]))"
      ]
     },
     "execution_count": 32,
     "metadata": {},
     "output_type": "execute_result"
    }
   ],
   "source": [
    "eng_stats[2][0].k[:10], eng_stats[2][0].p[:10] "
   ]
  },
  {
   "cell_type": "markdown",
   "metadata": {
    "id": "nabSejM9q1uy"
   },
   "source": [
    "Probabilidades de transición para el inglés con orden 2:"
   ]
  },
  {
   "cell_type": "code",
   "execution_count": null,
   "metadata": {
    "colab": {
     "base_uri": "https://localhost:8080/"
    },
    "id": "OEUHkl9gq1uz",
    "outputId": "a2803bcd-9af7-472f-9335-333b6a7e2bb6"
   },
   "outputs": [
    {
     "data": {
      "text/plain": [
       "(array([' a', ' b', ' c', ' d', ' e', ' f', ' g', ' h', ' i', ' j'],\n",
       "       dtype=object),\n",
       " array([' ', 'a', 'b', 'c', 'd', 'e', 'f', 'g', 'h', 'i'], dtype=object),\n",
       " array([[2.01468359e-01, 5.72744118e-04, 3.39378966e-02, 3.30338593e-02,\n",
       "         2.11325734e-02],\n",
       "        [7.43818315e-03, 1.30229410e-01, 2.23217500e-04, 2.16016936e-04,\n",
       "         1.44011290e-05],\n",
       "        [7.34548983e-03, 1.99274049e-01, 7.30863955e-04, 4.85195399e-04,\n",
       "         7.67714238e-04],\n",
       "        [4.04047976e-02, 1.10326087e-01, 2.99850075e-04, 6.65292354e-04,\n",
       "         3.27961019e-04],\n",
       "        [1.82104997e-02, 1.00201918e-01, 1.96870268e-03, 2.49369006e-02,\n",
       "         4.96592630e-02]]))"
      ]
     },
     "execution_count": 33,
     "metadata": {},
     "output_type": "execute_result"
    }
   ],
   "source": [
    "eng_stats[2][1].kf[:10], eng_stats[2][1].kt[:10], eng_stats[2][1].p[:5,:5] "
   ]
  },
  {
   "cell_type": "markdown",
   "metadata": {
    "id": "wi3tgz1dTQis"
   },
   "source": [
    "### 3. Creación de los modelos por letras\n",
    "\n",
    "Crearemos una clase que actuará como interfaz del modelo, almacenando las probabilidades calculadas y permitiendo la generación de cadenas y cálculo de verosimilitud.\n",
    "\n",
    "* Inicialización: se guardan los parámetros del modelo y se obtienen las distribuciones de probabilidad cumulativas.\n",
    "\n",
    "* gen_trayect: genera $n$ trayectorias en base al modelo. Toma muestras uniformes para muestrear las distribuciones de probabilidad del modelo por método de la inversa y considera una trayectoria terminada cuando genera un espacio.\n",
    "\n",
    "* log_lik: calcula el logaritmo de la verosimilitud de una trayectoria en base a las probabilidades el modelo."
   ]
  },
  {
   "cell_type": "code",
   "execution_count": null,
   "metadata": {
    "id": "ln6ehnxpbJi7"
   },
   "outputs": [],
   "source": [
    "class lett_estoc_model:\n",
    "\n",
    "  def __init__(self, k, inits, trans):\n",
    "    self.k = k\n",
    "    self.inits = ProbObject(inits.p, inits.k)\n",
    "    self.trans = ProbObject(trans.p, [trans.kf, trans.kt])\n",
    "\n",
    "    self.inits.p = np.cumsum(self.inits.p)\n",
    "    self.trans.p = np.cumsum(self.trans.p, axis=1)\n",
    "\n",
    "\n",
    "  def gen_trayect(self, n):\n",
    "    trayects = []\n",
    "    while len(trayects) != n:\n",
    "      unif = np.random.uniform()\n",
    "      trayect = self.inits.k[np.argmax(unif < self.inits.p)]\n",
    "\n",
    "      last_group = trayect\n",
    "      sel_letter = \".\"\n",
    "      while sel_letter[-1] != \" \":\n",
    "        unif = np.random.uniform()\n",
    "        last_group_idx = np.where(self.trans.kf == last_group)[0]\n",
    "        try:\n",
    "          sel_letter = self.trans.kt[np.argmax(unif < self.trans.p[last_group_idx,:])]\n",
    "        except:\n",
    "          break\n",
    "        trayect = trayect + sel_letter\n",
    "        last_group = last_group[1:] + sel_letter\n",
    "      if trayect[-1] == \" \":\n",
    "        trayects.append(trayect)\n",
    "    return trayects\n",
    "\n",
    "\n",
    "  def log_lik(self, trayect):\n",
    "    init_letter_idx = np.where(self.inits.k == trayect[0:self.k])[0]\n",
    "    if len(init_letter_idx) > 0:\n",
    "      init_letter_prob = self.inits.p[init_letter_idx] - (self.inits.p[init_letter_idx-1] if init_letter_idx>0 else 0)\n",
    "    else:\n",
    "      init_letter_prob = np.array([0])\n",
    "\n",
    "    if len(init_letter_prob) == 0 or init_letter_prob == 0:\n",
    "      return np.array([-np.inf])\n",
    "    else:\n",
    "      log_lik = np.log(init_letter_prob)\n",
    "\n",
    "    for i in range(len(trayect)-self.k):\n",
    "      last_group_idx = self.trans.kf == trayect[i:i+self.k]\n",
    "      new_letter = np.where(self.trans.kt == trayect[i+self.k])[0]\n",
    "      if len(new_letter) > 0:\n",
    "        new_letter_prob = self.trans.p[last_group_idx, new_letter] - (self.trans.p[last_group_idx, new_letter-1] if new_letter>0 else 0)\n",
    "      else:\n",
    "        new_letter_prob = np.array([0])\n",
    "\n",
    "      if len(new_letter_prob) == 0 or new_letter_prob == 0:\n",
    "        log_lik += -np.inf\n",
    "      else:\n",
    "        log_lik += np.log(new_letter_prob)\n",
    "\n",
    "    return log_lik / len(trayect)\n",
    "    "
   ]
  },
  {
   "cell_type": "markdown",
   "metadata": {
    "id": "vOP1M30vzpok"
   },
   "source": [
    "Generación de los modelos correspondientes a las probabilidades calculadas previamente:"
   ]
  },
  {
   "cell_type": "code",
   "execution_count": null,
   "metadata": {
    "id": "dzldHg_YzwJp"
   },
   "outputs": [],
   "source": [
    "esp_models = {}\n",
    "\n",
    "for i in range(1, 8+1):\n",
    "  esp_models[i] = lett_estoc_model(i, esp_stats[i][0], esp_stats[i][1])"
   ]
  },
  {
   "cell_type": "code",
   "execution_count": null,
   "metadata": {
    "id": "E5Qe0M_Az8jM"
   },
   "outputs": [],
   "source": [
    "eng_models = {}\n",
    "\n",
    "for i in range(1, 8+1):\n",
    "  eng_models[i] = lett_estoc_model(i, eng_stats[i][0], eng_stats[i][1])"
   ]
  },
  {
   "cell_type": "markdown",
   "metadata": {
    "id": "JOoU1IR0_JGy"
   },
   "source": [
    "Los modelos se guardan en archivos para volver a cargarlos una vez han sido generados."
   ]
  },
  {
   "cell_type": "code",
   "execution_count": null,
   "metadata": {
    "id": "guR37c83_RTj"
   },
   "outputs": [],
   "source": [
    "with open(\"/content/gdrive/My Drive/esp_models.obj\", \"wb\") as out:\n",
    "  pickle.dump(esp_models, out)\n",
    "\n",
    "with open(\"/content/gdrive/My Drive/eng_models.obj\", \"wb\") as out:\n",
    "  pickle.dump(eng_models, out)"
   ]
  },
  {
   "cell_type": "code",
   "execution_count": null,
   "metadata": {
    "id": "zjAZ5hsVAV7h"
   },
   "outputs": [],
   "source": [
    "with open(\"/content/gdrive/My Drive/esp_models.obj\", \"rb\") as input:\n",
    "  esp_models = pickle.load(input)\n",
    "\n",
    "with open(\"/content/gdrive/My Drive/eng_models.obj\", \"rb\") as input:\n",
    "  eng_models = pickle.load(input)"
   ]
  },
  {
   "cell_type": "markdown",
   "metadata": {
    "id": "xAiIbRbIzi0R"
   },
   "source": [
    "Algunas pruebas con modelos de español:"
   ]
  },
  {
   "cell_type": "code",
   "execution_count": null,
   "metadata": {
    "colab": {
     "base_uri": "https://localhost:8080/"
    },
    "id": "2jpDeEeC0PMb",
    "outputId": "89106c71-228f-40cb-b34b-edab3440f2b8"
   },
   "outputs": [
    {
     "data": {
      "text/plain": [
       "['la ',\n",
       " 'que ',\n",
       " 'lejanda ',\n",
       " 'la ',\n",
       " 'ela ',\n",
       " 'se ',\n",
       " 'logen ',\n",
       " 'es ',\n",
       " 'ejantenza ',\n",
       " 'punas ']"
      ]
     },
     "execution_count": 44,
     "metadata": {},
     "output_type": "execute_result"
    }
   ],
   "source": [
    "# Generación de trayectorias con orden 2\n",
    "esp_models[2].gen_trayect(10)"
   ]
  },
  {
   "cell_type": "code",
   "execution_count": null,
   "metadata": {
    "colab": {
     "base_uri": "https://localhost:8080/"
    },
    "id": "0SQ_G2sR0Q8Q",
    "outputId": "4720c070-03cf-4b3f-e070-dfd66e76ecd9"
   },
   "outputs": [
    {
     "data": {
      "text/plain": [
       "['rentas ',\n",
       " 'comunes ',\n",
       " 'sustraer ',\n",
       " 'barcelona ',\n",
       " 'atención ',\n",
       " 'atiborraron ',\n",
       " 'efectiva ',\n",
       " 'familiar ',\n",
       " 'responsables ',\n",
       " 'soportabilidad ']"
      ]
     },
     "execution_count": 45,
     "metadata": {},
     "output_type": "execute_result"
    }
   ],
   "source": [
    "# Generación de trayectorias con orden 6\n",
    "esp_models[6].gen_trayect(10)"
   ]
  },
  {
   "cell_type": "code",
   "execution_count": null,
   "metadata": {
    "colab": {
     "base_uri": "https://localhost:8080/"
    },
    "id": "SXbwp_uL3K23",
    "outputId": "01f3db3f-13c4-4468-bf54-4cf0eb97467e"
   },
   "outputs": [
    {
     "data": {
      "text/plain": [
       "array([-2.73273823])"
      ]
     },
     "execution_count": 49,
     "metadata": {},
     "output_type": "execute_result"
    }
   ],
   "source": [
    "# Cálculo de verosimilitud con orden 2\n",
    "esp_models[2].log_lik(\"ilustre \")"
   ]
  },
  {
   "cell_type": "code",
   "execution_count": null,
   "metadata": {
    "colab": {
     "base_uri": "https://localhost:8080/"
    },
    "id": "lhIgMBrG3ZP5",
    "outputId": "04a22b91-3cad-43da-8480-b4e8fa06f7e7"
   },
   "outputs": [
    {
     "data": {
      "text/plain": [
       "array([-1.51984287])"
      ]
     },
     "execution_count": 50,
     "metadata": {},
     "output_type": "execute_result"
    }
   ],
   "source": [
    "esp_models[6].log_lik(\"ilustre \")"
   ]
  },
  {
   "cell_type": "markdown",
   "metadata": {
    "id": "nDbVCODgzmFT"
   },
   "source": [
    "Algunas pruebas con modelos de inglés:"
   ]
  },
  {
   "cell_type": "code",
   "execution_count": null,
   "metadata": {
    "colab": {
     "base_uri": "https://localhost:8080/"
    },
    "id": "Bdjqvz0Y42Im",
    "outputId": "0a9e3577-3c17-4e23-fd61-855d78297557"
   },
   "outputs": [
    {
     "data": {
      "text/plain": [
       "['mon ',\n",
       " 'her ',\n",
       " 'wough ',\n",
       " 'un ',\n",
       " 'tee ',\n",
       " 'the ',\n",
       " 'of ',\n",
       " 'whousen ',\n",
       " 'wan ',\n",
       " 'se ']"
      ]
     },
     "execution_count": 52,
     "metadata": {},
     "output_type": "execute_result"
    }
   ],
   "source": [
    "# Generación de trayectorias con orden 2\n",
    "eng_models[2].gen_trayect(10)"
   ]
  },
  {
   "cell_type": "code",
   "execution_count": null,
   "metadata": {
    "colab": {
     "base_uri": "https://localhost:8080/"
    },
    "id": "Yo0Bx1Qi42Ip",
    "outputId": "27e4aba5-7fea-43d1-92e8-7414ea0dcf1f"
   },
   "outputs": [
    {
     "data": {
      "text/plain": [
       "['supposed ',\n",
       " 'switch ',\n",
       " 'having ',\n",
       " 'sought ',\n",
       " 'delivery ',\n",
       " 'cabinet ',\n",
       " 'struction ',\n",
       " 'libero ',\n",
       " 'reference ',\n",
       " 'association ']"
      ]
     },
     "execution_count": 53,
     "metadata": {},
     "output_type": "execute_result"
    }
   ],
   "source": [
    "# Generación de trayectorias con orden 6\n",
    "eng_models[6].gen_trayect(10)"
   ]
  },
  {
   "cell_type": "code",
   "execution_count": null,
   "metadata": {
    "colab": {
     "base_uri": "https://localhost:8080/"
    },
    "id": "sJvifF9A42Ir",
    "outputId": "87f6d402-f2d5-499e-a531-1de4bb5c4510"
   },
   "outputs": [
    {
     "data": {
      "text/plain": [
       "array([-2.41344231])"
      ]
     },
     "execution_count": 106,
     "metadata": {},
     "output_type": "execute_result"
    }
   ],
   "source": [
    "# Cálculo de verosimilitud con orden 2\n",
    "eng_models[2].log_lik(\"manhattan \")"
   ]
  },
  {
   "cell_type": "code",
   "execution_count": null,
   "metadata": {
    "colab": {
     "base_uri": "https://localhost:8080/"
    },
    "id": "G5Q_4iog42Ir",
    "outputId": "6e784876-6685-4791-dc8e-6f2da3aa5360"
   },
   "outputs": [
    {
     "data": {
      "text/plain": [
       "array([-0.96354542])"
      ]
     },
     "execution_count": 107,
     "metadata": {},
     "output_type": "execute_result"
    }
   ],
   "source": [
    "eng_models[6].log_lik(\"manhattan \")"
   ]
  },
  {
   "cell_type": "markdown",
   "metadata": {
    "id": "9SPu8vji8OlX"
   },
   "source": [
    "### 4. Clasificador de palabras entre inglés y español"
   ]
  },
  {
   "cell_type": "code",
   "execution_count": null,
   "metadata": {
    "id": "5vW5IIZn8doM"
   },
   "outputs": [],
   "source": [
    "class LanguageClasif:\n",
    "\n",
    "  def __init__(self, models):\n",
    "    self.models = models\n",
    "\n",
    "  def predict(self, trayect, k, retmode=\"predict\"):\n",
    "    log_liks = {}\n",
    "    for lang in self.models.keys():\n",
    "      log_liks[lang] = self.models[lang][k].log_lik(trayect)\n",
    "    if retmode == \"predict\":\n",
    "      return max(log_liks, key=log_liks.get)\n",
    "    elif retmode == \"log_liks\":\n",
    "      return log_liks"
   ]
  },
  {
   "cell_type": "code",
   "execution_count": null,
   "metadata": {
    "id": "VEgq7Z1M9QjP"
   },
   "outputs": [],
   "source": [
    "esp_eng_clas = LanguageClasif({'esp': esp_models, 'eng': eng_models})"
   ]
  },
  {
   "cell_type": "markdown",
   "metadata": {
    "id": "JjYK6Azk9dTF"
   },
   "source": [
    "Algunas pruebas con el clasificador de palabras:"
   ]
  },
  {
   "cell_type": "code",
   "execution_count": null,
   "metadata": {
    "colab": {
     "base_uri": "https://localhost:8080/",
     "height": 35
    },
    "id": "LzcnMIRY9bw4",
    "outputId": "f7d65af5-80ca-4036-d921-d62facdcdb79"
   },
   "outputs": [
    {
     "data": {
      "application/vnd.google.colaboratory.intrinsic+json": {
       "type": "string"
      },
      "text/plain": [
       "'eng'"
      ]
     },
     "execution_count": 110,
     "metadata": {},
     "output_type": "execute_result"
    }
   ],
   "source": [
    "esp_eng_clas.predict(\"builder \", k=2)"
   ]
  },
  {
   "cell_type": "code",
   "execution_count": null,
   "metadata": {
    "colab": {
     "base_uri": "https://localhost:8080/",
     "height": 35
    },
    "id": "wjSRHl6z-CVh",
    "outputId": "ed5dde13-fa43-4d46-fd76-38f39e7b8012"
   },
   "outputs": [
    {
     "data": {
      "application/vnd.google.colaboratory.intrinsic+json": {
       "type": "string"
      },
      "text/plain": [
       "'esp'"
      ]
     },
     "execution_count": 59,
     "metadata": {},
     "output_type": "execute_result"
    }
   ],
   "source": [
    "esp_eng_clas.predict(\"argamasa \", k=2)"
   ]
  },
  {
   "cell_type": "code",
   "execution_count": null,
   "metadata": {
    "colab": {
     "base_uri": "https://localhost:8080/",
     "height": 35
    },
    "id": "GGkyIhgS-PIK",
    "outputId": "f838090d-1f4e-463d-d681-bdeda04c32cf"
   },
   "outputs": [
    {
     "data": {
      "application/vnd.google.colaboratory.intrinsic+json": {
       "type": "string"
      },
      "text/plain": [
       "'eng'"
      ]
     },
     "execution_count": 111,
     "metadata": {},
     "output_type": "execute_result"
    }
   ],
   "source": [
    "esp_eng_clas.predict(\"builder \", k=3)"
   ]
  },
  {
   "cell_type": "code",
   "execution_count": null,
   "metadata": {
    "colab": {
     "base_uri": "https://localhost:8080/",
     "height": 35
    },
    "id": "rLHv6C---TBZ",
    "outputId": "186e2753-cfcb-471e-e9e1-ff741389ef45"
   },
   "outputs": [
    {
     "data": {
      "application/vnd.google.colaboratory.intrinsic+json": {
       "type": "string"
      },
      "text/plain": [
       "'esp'"
      ]
     },
     "execution_count": 61,
     "metadata": {},
     "output_type": "execute_result"
    }
   ],
   "source": [
    "esp_eng_clas.predict(\"villanueva  \", k=4)"
   ]
  },
  {
   "cell_type": "code",
   "execution_count": null,
   "metadata": {
    "colab": {
     "base_uri": "https://localhost:8080/"
    },
    "id": "gfMIi0Yp-emV",
    "outputId": "02b4d9d0-3c10-47c2-fc5f-022360ad4c3c"
   },
   "outputs": [
    {
     "data": {
      "text/plain": [
       "{'eng': array([-2.13183133]), 'esp': array([-2.93177783])}"
      ]
     },
     "execution_count": 112,
     "metadata": {},
     "output_type": "execute_result"
    }
   ],
   "source": [
    "esp_eng_clas.predict(\"builder \", k=2, retmode=\"log_liks\")"
   ]
  },
  {
   "cell_type": "markdown",
   "metadata": {
    "id": "iDygZXhaRnhf"
   },
   "source": [
    "En estas pruebas el clasificador parece capaz de discernir el idioma de las palabras correctamente."
   ]
  },
  {
   "cell_type": "markdown",
   "metadata": {
    "id": "Y8f-0fxX5jW2"
   },
   "source": [
    "### 5. Cálculo de las aproximaciones por palabras de orden $1,...n$"
   ]
  },
  {
   "cell_type": "markdown",
   "metadata": {
    "id": "7ySiffcqtuS7"
   },
   "source": [
    "Las frecuencias iniciales corresponden a la frecuencia del primer grupo de palabras en cada frase y las frecuencias de transición a la frecuencia con que un grupo de palabras es seguida por otra palabra.\n",
    "\n",
    "Para calcular las frecuencias iniciales recogemos el primer grupo de palabras de cada línea (tomando las k primeras posiciones de split en base al espacio) y agregando. \n",
    "\n",
    "Para calcular las frecuencias de transición se separan las líneas en grupos de palabras y se agregan las ocurrencias de $w_{i-k-1},...,w_{i-1} \\rightarrow w_{i}$"
   ]
  },
  {
   "cell_type": "markdown",
   "metadata": {
    "id": "w30f1fYXSHvF"
   },
   "source": [
    "En este caso el coste computacional es mucho mayor por lo que además de usar un dataset reducido se restringue el $k$ máximo hasta 4. En cualquier caso un $k$ tan alto para la aproximación por palabras da lugar a un overfitting muy alto que solo reproduciría frases literales del corpus."
   ]
  },
  {
   "cell_type": "code",
   "execution_count": null,
   "metadata": {
    "id": "JrTRHpbVu0x3"
   },
   "outputs": [],
   "source": [
    "def k_approx_word(k, corpus_rdd):\n",
    "  '''\n",
    "  Devuelve la lista de claves y frecuencias de las aproximación de orden k a los\n",
    "  datos de un rdd\n",
    "  '''\n",
    "  ### Probabilidades iniciales\n",
    "\n",
    "  # Se omiten las frases demasiado cortas para el orden deseado\n",
    "  filt_rdd = corpus_rdd.filter(lambda l: len(l.split(\" \")) >= k)\n",
    "\n",
    "  # Se toman el grupo de primeras k palabras de cada palabra y se agrega\n",
    "  first_group_freq = filt_rdd.map(lambda l: (tuple(l.split(\" \")[:k]), 1))\n",
    "  first_group_freq = first_group_freq.reduceByKey(lambda a,b: a+b)\n",
    "\n",
    "  # Se calcula el número de lineas para normalizar\n",
    "  num_lines = first_group_freq.map(lambda l: l[1])\n",
    "  num_lines = num_lines.reduce(lambda a,b: a+b)\n",
    "\n",
    "  # Paso a dataframe y a formato ProbObject\n",
    "  l0 = pd.DataFrame(first_group_freq.collect())\n",
    "  l0 = l0.sort_values(by=0)\n",
    "  init_key, init_prob = np.array(l0[0]), l0[1].to_numpy()/num_lines\n",
    "  inits = ProbObject(init_prob, init_key)\n",
    "\n",
    "  ### Probabilidades de transición\n",
    "\n",
    "  # Separación de las líneas en grupos de palabras de tamaño k+1\n",
    "  group_freq = filt_rdd.flatMap(lambda l: [tuple(l.split(\" \")[i:i+k+1]) for i in range(len(l.split(\" \"))-k)])\n",
    "\n",
    "  # Agregación de acuerdo al grupo de símbolos\n",
    "  group_freq = group_freq.map(lambda l: (l,1))\n",
    "  group_freq = group_freq.reduceByKey(lambda a,b: a+b)\n",
    "\n",
    "  # Paso a dataframe y ProbObject\n",
    "  group_freq = group_freq.map(lambda l: [l[0][:k], l[0][k], l[1]])\n",
    "  dataframe = pd.DataFrame(group_freq.collect())\n",
    "  dataframe = dataframe.sort_values(by=[0,1])\n",
    "  matrix = dataframe.pivot_table(index=0, columns=1, values=2).fillna(0)\n",
    "  keysfrom = np.array(matrix.index)\n",
    "  keysto = np.array(matrix.columns)\n",
    "  matrix = matrix.to_numpy()\n",
    "  trans = ProbObject(matrix/np.sum(matrix, axis=1, keepdims=True), [keysfrom, keysto])\n",
    "\n",
    "  return inits, trans"
   ]
  },
  {
   "cell_type": "markdown",
   "metadata": {
    "id": "wEMwV2IKx1_N"
   },
   "source": [
    "Cálculos en batch para $k$ en $[1,4]$:"
   ]
  },
  {
   "cell_type": "code",
   "execution_count": null,
   "metadata": {
    "colab": {
     "base_uri": "https://localhost:8080/"
    },
    "id": "aXhaL70wx1_Q",
    "outputId": "95b73b4e-23ae-47ba-e3b0-15c4472d9973"
   },
   "outputs": [
    {
     "name": "stdout",
     "output_type": "stream",
     "text": [
      "Calculando aproximación de orden:  1\n",
      "Calculando aproximación de orden:  2\n",
      "Calculando aproximación de orden:  3\n",
      "Calculando aproximación de orden:  4\n",
      "\n",
      "Tiempo total de cálculo: 0.307 minutos\n"
     ]
    }
   ],
   "source": [
    "esp_words_stats = {}\n",
    "\n",
    "start = time.time()\n",
    "for i in range(1, 4+1):\n",
    "  print(\"Calculando aproximación de orden: \", i)\n",
    "  esp_words_stats[i] = k_approx_word(i, esp_corpus_words)\n",
    "print(f\"\\nTiempo total de cálculo: {round((time.time() - start) / 60, 3)} minutos\")"
   ]
  },
  {
   "cell_type": "markdown",
   "metadata": {
    "id": "hPJqgp8nx1_T"
   },
   "source": [
    "Probabilidades iniciales para el español con orden 2:"
   ]
  },
  {
   "cell_type": "code",
   "execution_count": null,
   "metadata": {
    "colab": {
     "base_uri": "https://localhost:8080/"
    },
    "id": "03GIaDyWx1_U",
    "outputId": "44c06621-3ac9-4ec9-ffd8-d139e68d84a0"
   },
   "outputs": [
    {
     "data": {
      "text/plain": [
       "(array([('a', 'causa'), ('a', 'el'), ('a', 'fin'), ('a', 'la'),\n",
       "        ('a', 'los')], dtype=object),\n",
       " array([0.00073584, 0.00441501, 0.00073584, 0.00294334, 0.00220751]))"
      ]
     },
     "execution_count": 19,
     "metadata": {},
     "output_type": "execute_result"
    }
   ],
   "source": [
    "esp_words_stats[2][0].k[:5], esp_words_stats[2][0].p[:5] "
   ]
  },
  {
   "cell_type": "markdown",
   "metadata": {
    "id": "ongnO3khx1_V"
   },
   "source": [
    "Probabilidades de transición para el español con orden 2:"
   ]
  },
  {
   "cell_type": "code",
   "execution_count": null,
   "metadata": {
    "colab": {
     "base_uri": "https://localhost:8080/"
    },
    "id": "cPDxWFscx1_V",
    "outputId": "4fd81073-3a46-496a-ce6c-9dfd275b9a8e"
   },
   "outputs": [
    {
     "data": {
      "text/plain": [
       "(array([('a', 'adwords'), ('a', 'agresiones'), ('a', 'aguantar'),\n",
       "        ('a', 'alguien'), ('a', 'alguno')], dtype=object),\n",
       " array(['\\n', 'a', 'abajo', 'abandonado', 'abandonar'], dtype=object),\n",
       " array([[0.        , 0.        , 0.        , 0.        , 0.        ],\n",
       "        [0.        , 0.        , 0.        , 0.        , 0.        ],\n",
       "        [0.        , 0.        , 0.        , 0.        , 0.        ],\n",
       "        [0.33333333, 0.        , 0.        , 0.        , 0.        ],\n",
       "        [0.        , 0.        , 0.        , 0.        , 0.        ]]))"
      ]
     },
     "execution_count": 29,
     "metadata": {},
     "output_type": "execute_result"
    }
   ],
   "source": [
    "esp_words_stats[2][1].kf[:5], esp_words_stats[2][1].kt[:5], esp_words_stats[2][1].p[:5,:5] "
   ]
  },
  {
   "cell_type": "markdown",
   "metadata": {
    "id": "bKQmjPzSSK5z"
   },
   "source": [
    "Uno de los principales problemas es que al trabajar con palabras hay muchas más combinaciones posibles y con un texto tan reducido muy pocas se ven representadas.\n",
    "\n",
    "Este es un clásico problema de \"maldición de la dimensionalidad\"."
   ]
  },
  {
   "cell_type": "code",
   "execution_count": null,
   "metadata": {
    "colab": {
     "base_uri": "https://localhost:8080/"
    },
    "id": "uXAauRoxx1_W",
    "outputId": "7903fe68-ff27-4f52-a144-b501e4673c7c"
   },
   "outputs": [
    {
     "name": "stdout",
     "output_type": "stream",
     "text": [
      "Calculando aproximación de orden:  1\n",
      "Calculando aproximación de orden:  2\n",
      "Calculando aproximación de orden:  3\n",
      "Calculando aproximación de orden:  4\n",
      "\n",
      "Tiempo total de cálculo: 0.303 minutos\n"
     ]
    }
   ],
   "source": [
    "eng_words_stats = {}\n",
    "\n",
    "start = time.time()\n",
    "for i in range(1, 4+1):\n",
    "  print(\"Calculando aproximación de orden: \", i)\n",
    "  eng_words_stats[i] = k_approx_word(i, eng_corpus_words)\n",
    "print(f\"\\nTiempo total de cálculo: {round((time.time() - start) / 60, 3)} minutos\")"
   ]
  },
  {
   "cell_type": "markdown",
   "metadata": {
    "id": "aa_q9BrBx1_X"
   },
   "source": [
    "Probabilidades iniciales para el inglés con orden 2:"
   ]
  },
  {
   "cell_type": "code",
   "execution_count": null,
   "metadata": {
    "colab": {
     "base_uri": "https://localhost:8080/"
    },
    "id": "XhHsjx5Yx1_X",
    "outputId": "497c1a5b-57a9-4a28-dcd4-832942dfa7fd"
   },
   "outputs": [
    {
     "data": {
      "text/plain": [
       "(array([('a', 'an'), ('a', 'bill'), ('a', 'common'),\n",
       "        ('a', 'comprehensive'), ('a', 'conference'), ('a', 'consequence'),\n",
       "        ('a', 'dark'), ('a', 'day'), ('a', 'decade'), ('a', 'disheveled')],\n",
       "       dtype=object),\n",
       " array([0.00062422, 0.00062422, 0.00062422, 0.00062422, 0.00062422,\n",
       "        0.00062422, 0.00062422, 0.00062422, 0.00062422, 0.00062422]))"
      ]
     },
     "execution_count": 27,
     "metadata": {},
     "output_type": "execute_result"
    }
   ],
   "source": [
    "eng_words_stats[2][0].k[:10], eng_words_stats[2][0].p[:10] "
   ]
  },
  {
   "cell_type": "markdown",
   "metadata": {
    "id": "-ezGFnLYx1_Y"
   },
   "source": [
    "Probabilidades de transición para el inglés con orden 2:"
   ]
  },
  {
   "cell_type": "code",
   "execution_count": null,
   "metadata": {
    "colab": {
     "base_uri": "https://localhost:8080/"
    },
    "id": "7SDGh3Xgx1_Y",
    "outputId": "66c7d94b-82e5-427e-d9e4-ed95a8794f37"
   },
   "outputs": [
    {
     "data": {
      "text/plain": [
       "(array([('a', 'an'), ('a', 'babe'), ('a', 'baby'), ('a', 'backbone'),\n",
       "        ('a', 'balanced'), ('a', 'bamboo'), ('a', 'bar'), ('a', 'bare'),\n",
       "        ('a', 'basic'), ('a', 'basket')], dtype=object),\n",
       " array(['\\n', 'a', 'aaron', 'abandoned', 'abilities', 'ability', 'able',\n",
       "        'ably', 'about', 'above'], dtype=object),\n",
       " array([[0., 0., 0., 0., 0.],\n",
       "        [0., 0., 0., 0., 0.],\n",
       "        [0., 0., 0., 0., 0.],\n",
       "        [1., 0., 0., 0., 0.],\n",
       "        [0., 0., 0., 0., 0.]]))"
      ]
     },
     "execution_count": 28,
     "metadata": {},
     "output_type": "execute_result"
    }
   ],
   "source": [
    "eng_words_stats[2][1].kf[:10], eng_words_stats[2][1].kt[:10], eng_words_stats[2][1].p[:5,:5] "
   ]
  },
  {
   "cell_type": "markdown",
   "metadata": {
    "id": "DiYk4lQx5sQC"
   },
   "source": [
    "### 6. Creación de los modelos por palabras\n",
    "\n",
    "Se crea una clase como interfaz del modelo análoga a la utilizada en el caso de las letras:"
   ]
  },
  {
   "cell_type": "code",
   "execution_count": null,
   "metadata": {
    "id": "KS9PDx0miyY7"
   },
   "outputs": [],
   "source": [
    "class word_estoc_model:\n",
    "\n",
    "  def __init__(self, k, inits, trans):\n",
    "    self.k = k\n",
    "    self.inits = ProbObject(inits.p, inits.k)\n",
    "    self.trans = ProbObject(trans.p, [trans.kf, trans.kt])\n",
    "\n",
    "    self.inits.p = np.cumsum(self.inits.p)\n",
    "    self.trans.p = np.cumsum(self.trans.p, axis=1)\n",
    "\n",
    "\n",
    "  def gen_trayect(self, n):\n",
    "    trayects = []\n",
    "    while len(trayects) != n:\n",
    "      unif = np.random.uniform()\n",
    "      trayect = self.inits.k[np.argmax(unif < self.inits.p)]\n",
    "\n",
    "      last_group = trayect\n",
    "      sel_word = \".\"\n",
    "      while sel_word[-1] != \"\\n\":\n",
    "        unif = np.random.uniform()\n",
    "        last_group_idx = np.where([x == last_group for x in self.trans.kf])[0]\n",
    "        try:\n",
    "          sel_word = self.trans.kt[np.argmax(unif < self.trans.p[last_group_idx,:])]\n",
    "        except:\n",
    "          break\n",
    "        trayect = trayect + (sel_word, )\n",
    "        last_group = last_group[1:] + (sel_word, )\n",
    "      \n",
    "      if trayect[-1] == \"\\n\":\n",
    "        trayects.append(\" \".join(trayect))\n",
    "    return trayects\n",
    "\n",
    "\n",
    "  def log_lik(self, trayect):\n",
    "    trayect = trayect.split(\" \")\n",
    "    init_letter_idx = np.where(np.array([x == tuple(trayect[0:self.k]) for x in self.inits.k]))[0]\n",
    "    if len(init_letter_idx) > 0:\n",
    "      init_letter_prob = self.inits.p[init_letter_idx] - (self.inits.p[init_letter_idx-1] if init_letter_idx>0 else 0)\n",
    "    else:\n",
    "      init_letter_prob = np.array([0])\n",
    "\n",
    "    if len(init_letter_prob) == 0 or init_letter_prob == 0:\n",
    "      return np.array([-np.inf])\n",
    "    else:\n",
    "      log_lik = np.log(init_letter_prob)\n",
    "\n",
    "    for i in range(len(trayect)-self.k):\n",
    "      last_group_idx = np.where(np.array([x == tuple(trayect[i:i+self.k]) for x in self.trans.kf]))[0]\n",
    "      new_word_idx = np.where(self.trans.kt == trayect[i+self.k])[0]\n",
    "      if len(last_group_idx)>0 and len(new_word_idx)>0:\n",
    "        new_word_prob = self.trans.p[last_group_idx, new_word_idx] - (self.trans.p[last_group_idx, new_word_idx-1] if new_word_idx>0 else 0)\n",
    "      else:\n",
    "        new_word_prob = np.array([0])\n",
    "\n",
    "      if len(new_word_prob) == 0 or new_word_prob == 0:\n",
    "        log_lik += -np.inf\n",
    "      else:\n",
    "        log_lik += np.log(new_word_prob)\n",
    "\n",
    "    return log_lik / len(trayect)\n",
    "    "
   ]
  },
  {
   "cell_type": "markdown",
   "metadata": {
    "id": "M7ks4dI8jqNJ"
   },
   "source": [
    "Generación de los modelos correspondientes a las probabilidades calculadas previamente:"
   ]
  },
  {
   "cell_type": "code",
   "execution_count": null,
   "metadata": {
    "id": "jGnrxLobjqNM"
   },
   "outputs": [],
   "source": [
    "esp_words_models = {}\n",
    "\n",
    "for i in range(1, 4+1):\n",
    "  esp_words_models[i] = word_estoc_model(i, esp_words_stats[i][0], esp_words_stats[i][1])"
   ]
  },
  {
   "cell_type": "code",
   "execution_count": null,
   "metadata": {
    "id": "f3d0S_40jqNO"
   },
   "outputs": [],
   "source": [
    "eng_words_models = {}\n",
    "\n",
    "for i in range(1, 4+1):\n",
    "  eng_words_models[i] = word_estoc_model(i, eng_words_stats[i][0], eng_words_stats[i][1])"
   ]
  },
  {
   "cell_type": "markdown",
   "metadata": {
    "id": "cjTrM9j8jqNQ"
   },
   "source": [
    "Los modelos se guardan en archivos para volver a cargarlos una vez han sido generados."
   ]
  },
  {
   "cell_type": "code",
   "execution_count": null,
   "metadata": {
    "id": "sATUQuNKjqNR"
   },
   "outputs": [],
   "source": [
    "with open(\"/content/gdrive/My Drive/esp_words_models.obj\", \"wb\") as out:\n",
    "  pickle.dump(esp_words_models, out)\n",
    "\n",
    "with open(\"/content/gdrive/My Drive/eng_words_models.obj\", \"wb\") as out:\n",
    "  pickle.dump(eng_words_models, out)"
   ]
  },
  {
   "cell_type": "code",
   "execution_count": null,
   "metadata": {
    "id": "3URH7YRkjqNT"
   },
   "outputs": [],
   "source": [
    "with open(\"/content/gdrive/My Drive/esp_words_models.obj\", \"rb\") as input:\n",
    "  esp_words_models = pickle.load(input)\n",
    "\n",
    "with open(\"/content/gdrive/My Drive/eng_words_models.obj\", \"rb\") as input:\n",
    "  eng_words_models = pickle.load(input)"
   ]
  },
  {
   "cell_type": "markdown",
   "metadata": {
    "id": "n-ohi54UjqNV"
   },
   "source": [
    "Algunas pruebas con modelos de español:"
   ]
  },
  {
   "cell_type": "code",
   "execution_count": null,
   "metadata": {
    "colab": {
     "base_uri": "https://localhost:8080/"
    },
    "id": "eh31QK12jqNW",
    "outputId": "c6564ea2-4348-4813-9ed2-9bbc46924e8f"
   },
   "outputs": [
    {
     "data": {
      "text/plain": [
       "['en sus clases de idioma español \\n',\n",
       " 'los padres a elegir la educación \\n',\n",
       " 'de ahí que uno tarda el resto de la tabla metales y no permitan que sus niveles de profundidad \\n',\n",
       " 'experto en protocolos de telecominicaciones \\n',\n",
       " 'no obstante el premio sí puede considerar se como maestro debemos des estar preparados par cualquier momento en nuestra clase nos habla hacerca de que el radio atómico debería crecer conforme aumenta el tamaño aparente de el instituto de tecnología de california caltech en ee uu \\n',\n",
       " 'quieren ser constantemente el centro de atención directamente sobre su ceo tim cook \\n',\n",
       " 'de los ambientes de trabajo \\n',\n",
       " 'cómo iban a dejar una huella en la educación en casa significa asumir de forma absoluta así que los alumnos contruyan sus propios saberes \\n',\n",
       " 'una vez ha llegado a nuestro público objetivo y por lo que querían se lo damos somos pocos en cambio blogs que no leen apenas hayan leído artículos míos que les encanta la serie pero que implican cambios constitucionales \\n',\n",
       " 'en casa suelen manifestar se más libre y espontáneamente en cualquier medio \\n']"
      ]
     },
     "execution_count": 23,
     "metadata": {},
     "output_type": "execute_result"
    }
   ],
   "source": [
    "# Generación de trayectorias con orden 2\n",
    "esp_words_models[2].gen_trayect(10)"
   ]
  },
  {
   "cell_type": "code",
   "execution_count": null,
   "metadata": {
    "colab": {
     "base_uri": "https://localhost:8080/"
    },
    "id": "3NgteG-fjqNX",
    "outputId": "8ff52c5e-2c90-4718-ad55-5459396fcf29"
   },
   "outputs": [
    {
     "data": {
      "text/plain": [
       "['este flashback no solo es la respuesta a todo sino que lentamente va jugando con el público dándo le pequeñas pistas que conducirán a una aterradora conclusión \\n',\n",
       " 'y a partir de aquí mi aportación a la discusión \\n',\n",
       " 'indicadora de la capacidad de un elemento para formar cationes \\n',\n",
       " 'sigue leyendo muchos guatemaltecos han crecido o crecieron haciendo el saludo uno colocar se la mano derecha sobre el pecho de el lado de el corazón cuando en los actos cívicos escuchan el himno nacional ya que ante este símbolo patrio y la bandera se deben seguir ciertas normas de comportamiento \\n',\n",
       " 'se debio haber tomado hace mucho tiempo \\n',\n",
       " 'hacemos un recorrido por algunas de ellas por qué interviene ahora francia antigua potencia colonial en los últimos meses francia intentó en reiteradas ocasionespersuadir a los gobiernos de estados unidos y a naciones unidas sobre la necesidad de intervenir en el norte de el país a el quedar fuera de el control estatal se convierta en una zona de crecimiento de células terroristas como sucedió en afganistán bajo el régimen talibán \\n',\n",
       " 'pero todos los que han educado o educamos en casa lo tenemos por lo más valioso de esta opción \\n',\n",
       " 'supongo que todos imagináis que la importancia de el cambio en la manera de evaluar como elegir y estructurar competencias la forma de realizar una original evaluación la cual sea significativa para el estudiante desde el momento en que escribo estas líneas no se ha convocado a nadie de proreforma cuya propuesta de reforma parcial a la constitución sin pasar por una constituyente sino a través de una consulta popular es la que considero como la mejor para lograr un verdadero estado de derecho que permita establecer reglas claras límites a la discrecionalidad de los funcionarios públicos disminución de la impunidad y que logremos un crecimiento económico de dos dígitos \\n',\n",
       " 'dice también que las competencias son herramientas para el buen desempeño de el alumno estas le enseñan a resolver todo tipo de dificultada que se le presente \\n',\n",
       " 'yo ya me disculpé por este hecho hace tiempo en mi blog nada nuevo \\n']"
      ]
     },
     "execution_count": 26,
     "metadata": {},
     "output_type": "execute_result"
    }
   ],
   "source": [
    "# Generación de trayectorias con orden 6\n",
    "esp_words_models[4].gen_trayect(10)"
   ]
  },
  {
   "cell_type": "code",
   "execution_count": null,
   "metadata": {
    "colab": {
     "base_uri": "https://localhost:8080/"
    },
    "id": "Qg0zEWc4jqNX",
    "outputId": "d333a91e-11ee-4596-caf6-76d2f7701859"
   },
   "outputs": [
    {
     "data": {
      "text/plain": [
       "array([-1.50784765])"
      ]
     },
     "execution_count": 91,
     "metadata": {},
     "output_type": "execute_result"
    }
   ],
   "source": [
    "# Cálculo de verosimilitud con orden 2\n",
    "esp_words_models[2].log_lik(\"supongo que todos la aplaudían \\n\")"
   ]
  },
  {
   "cell_type": "code",
   "execution_count": null,
   "metadata": {
    "colab": {
     "base_uri": "https://localhost:8080/"
    },
    "id": "V6C4nbxnjqNY",
    "outputId": "51c0f531-4af1-4368-b0da-ee4b4e48155b"
   },
   "outputs": [
    {
     "data": {
      "text/plain": [
       "array([-0.98415213])"
      ]
     },
     "execution_count": 57,
     "metadata": {},
     "output_type": "execute_result"
    }
   ],
   "source": [
    "esp_words_models[4].log_lik(\"se debio haber tomado hace mucho tiempo \\n\")"
   ]
  },
  {
   "cell_type": "markdown",
   "metadata": {
    "id": "vUguLkYJjqNZ"
   },
   "source": [
    "Algunas pruebas con modelos de inglés:"
   ]
  },
  {
   "cell_type": "code",
   "execution_count": null,
   "metadata": {
    "colab": {
     "base_uri": "https://localhost:8080/"
    },
    "id": "xIADDsyZjqNa",
    "outputId": "43580c04-b92f-4ea1-ecbd-b8f984c95485"
   },
   "outputs": [
    {
     "data": {
      "text/plain": [
       "['the wood stove for use after the show so sage comes home with us \\n',\n",
       " 'bering s life when she went to chapter meetings the shonto bureau of indian affairs but not on oilier fish such as the time \\n',\n",
       " 'johnny goldberg i graduated with honors in physics and realized that if i went to the mental hospital but we would have helped the dyalo will come \\n',\n",
       " 'i had no inkling of things to come learn how to best protect the sea and orcas are blocked from entering the lagoon by the time makes a run at the same time increasing numbers of children were being sent to boarding schools were funded a century after i happened upon those suicide notes and toolong \\n',\n",
       " 'now he counted only about two hundred miles to another clinic \\n',\n",
       " 'having assembled a core of committed people kamana and others \\n',\n",
       " 'we headed back to work \\n',\n",
       " 'the show with the next day we get up and follows them \\n',\n",
       " 'it s like this old movie with i think about how to seduce a man in the printings of the general condition of society and that it is \\n',\n",
       " 'but she was tommy s fascination with vampires and the making and playing of indigenous language on their lease \\n']"
      ]
     },
     "execution_count": 16,
     "metadata": {},
     "output_type": "execute_result"
    }
   ],
   "source": [
    "# Generación de trayectorias con orden 2\n",
    "eng_words_models[2].gen_trayect(10)"
   ]
  },
  {
   "cell_type": "code",
   "execution_count": null,
   "metadata": {
    "colab": {
     "base_uri": "https://localhost:8080/"
    },
    "id": "Qh0VEVTBjqNa",
    "outputId": "ee6c8b80-2ae3-45e0-a28a-8e056c9ec4b1"
   },
   "outputs": [
    {
     "data": {
      "text/plain": [
       "['today my children are grown and my oldest daughter is pregnant with our first grandchild \\n',\n",
       " 'reviving indigenous languages across north america \\n',\n",
       " 'it was a small club \\n',\n",
       " 'several pueblo communities including cochiti acoma and laguna maintain immersion programs that take place in a ceremonial context \\n',\n",
       " 'the walls were thin and i did n t need a lot of talent just an inner \\n',\n",
       " 'soil the month campaign to retake attu and kiska from the japanese \\n',\n",
       " 'we all dropped acid and it s kind of a blur \\n',\n",
       " 'our first stage was to find people \\n',\n",
       " 'as often as i could arrange it \\n',\n",
       " 'or i was doing crystal meth \\n']"
      ]
     },
     "execution_count": 17,
     "metadata": {},
     "output_type": "execute_result"
    }
   ],
   "source": [
    "# Generación de trayectorias con orden 6\n",
    "eng_words_models[4].gen_trayect(10)"
   ]
  },
  {
   "cell_type": "code",
   "execution_count": null,
   "metadata": {
    "colab": {
     "base_uri": "https://localhost:8080/"
    },
    "id": "mtIkYjt-jqNb",
    "outputId": "082a5eb2-8253-41ac-818c-6635ea3822a7"
   },
   "outputs": [
    {
     "data": {
      "text/plain": [
       "array([-2.05275209])"
      ]
     },
     "execution_count": 21,
     "metadata": {},
     "output_type": "execute_result"
    }
   ],
   "source": [
    "# Cálculo de verosimilitud con orden 2\n",
    "eng_words_models[2].log_lik(\"paul in the center of albuquerque \\n\")"
   ]
  },
  {
   "cell_type": "code",
   "execution_count": null,
   "metadata": {
    "colab": {
     "base_uri": "https://localhost:8080/"
    },
    "id": "r8Y9-nXfQ1we",
    "outputId": "741eb7f7-4863-44e4-8a17-8222495069b1"
   },
   "outputs": [
    {
     "data": {
      "text/plain": [
       "array([-1.39330623])"
      ]
     },
     "execution_count": 19,
     "metadata": {},
     "output_type": "execute_result"
    }
   ],
   "source": [
    "# Cálculo de verosimilitud con orden 4\n",
    "eng_words_models[2].log_lik(\"and he took my talent \\n\")"
   ]
  },
  {
   "cell_type": "markdown",
   "metadata": {
    "id": "HxBvuhWaSyhi"
   },
   "source": [
    "Las trayectorias generadas con $k=2$ corresponden a frases originales (que no están presentes en el corpus). Con $k=4$, sin embargo, prácticamente todas las clases provienen literalmente del corpus.\n",
    "\n",
    "Por otro lado, con $k=2$ es complicado, pero posible, encontrar una frase con verosimilitud no nula, mientras que con $k=4$ es casi imposible encontrar una frase tal que no provenga del corpus.\n",
    "\n",
    "Debido a estas limitaciones en la aproximación por palabras no vamos a hacer un clasificador por idioma."
   ]
  },
  {
   "cell_type": "markdown",
   "metadata": {
    "id": "sHqRn1p351Lz"
   },
   "source": [
    "## **RESULTADOS**"
   ]
  },
  {
   "cell_type": "markdown",
   "metadata": {
    "id": "hER9D9RV6Aot"
   },
   "source": [
    "### 1. Generadores de palabras aleatorios con distintos órdenes de aproximación"
   ]
  },
  {
   "cell_type": "markdown",
   "metadata": {
    "id": "Kkv_q_ou612K"
   },
   "source": [
    "Modelo español, $k=1$:"
   ]
  },
  {
   "cell_type": "code",
   "execution_count": null,
   "metadata": {
    "colab": {
     "base_uri": "https://localhost:8080/"
    },
    "id": "x0I9FKJF612N",
    "outputId": "5559d74e-b971-4fcc-878c-26d554739532"
   },
   "outputs": [
    {
     "data": {
      "text/plain": [
       "['hore ',\n",
       " 'pea ',\n",
       " 'uestaunirin ',\n",
       " 'es ',\n",
       " 'énabonoplle ',\n",
       " 's ',\n",
       " 'da ',\n",
       " 'papren ',\n",
       " 'lauigiventen ',\n",
       " 'demí ',\n",
       " 'y ',\n",
       " 'san ',\n",
       " 'codel ',\n",
       " 'lo ',\n",
       " 'ca ',\n",
       " 'esesía ',\n",
       " 'cimuántiériricr ',\n",
       " 'pal ',\n",
       " 'fóneros ',\n",
       " 'cudapr ']"
      ]
     },
     "execution_count": 64,
     "metadata": {},
     "output_type": "execute_result"
    }
   ],
   "source": [
    "esp_models[1].gen_trayect(20)"
   ]
  },
  {
   "cell_type": "markdown",
   "metadata": {
    "id": "YCJyBUQ766fU"
   },
   "source": [
    "Modelo español, $k=2$:"
   ]
  },
  {
   "cell_type": "code",
   "execution_count": null,
   "metadata": {
    "colab": {
     "base_uri": "https://localhost:8080/"
    },
    "id": "uEpUQghS66fX",
    "outputId": "b79f07a0-c3fb-4b34-88d4-0582e77de244"
   },
   "outputs": [
    {
     "data": {
      "text/plain": [
       "['uncios ',\n",
       " 'ayo ',\n",
       " 'ya ',\n",
       " 'andechacción ',\n",
       " 'denía ',\n",
       " 'tos ',\n",
       " 'un ',\n",
       " 'neada ',\n",
       " 'de ',\n",
       " 'larte ',\n",
       " 're ',\n",
       " 'amen ',\n",
       " 'dea ',\n",
       " 'algure ',\n",
       " 'ad ',\n",
       " 'en ',\n",
       " 'enten ',\n",
       " 'oblespeureaños ',\n",
       " 'us ',\n",
       " 'los ']"
      ]
     },
     "execution_count": 65,
     "metadata": {},
     "output_type": "execute_result"
    }
   ],
   "source": [
    "esp_models[2].gen_trayect(20)"
   ]
  },
  {
   "cell_type": "markdown",
   "metadata": {
    "id": "uCCim6Tn6-IR"
   },
   "source": [
    "Modelo español, $k=3$:"
   ]
  },
  {
   "cell_type": "code",
   "execution_count": null,
   "metadata": {
    "colab": {
     "base_uri": "https://localhost:8080/"
    },
    "id": "wVp0jIwQ6-IS",
    "outputId": "e52a862d-f278-40a6-9d36-ac085a5406e6"
   },
   "outputs": [
    {
     "data": {
      "text/plain": [
       "['reducacios ',\n",
       " 'que ',\n",
       " 'los ',\n",
       " 'geligentroecólo ',\n",
       " 'cales ',\n",
       " 'mejor ',\n",
       " 'embariba ',\n",
       " 'una ',\n",
       " 'está ',\n",
       " 'demanetalidar ',\n",
       " 'hyunos ',\n",
       " 'recerá ',\n",
       " 'objeto ',\n",
       " 'modo ',\n",
       " 'querio ',\n",
       " 'parte ',\n",
       " 'amientar ',\n",
       " 'incias ',\n",
       " 'dispectitu ',\n",
       " 'las ']"
      ]
     },
     "execution_count": 66,
     "metadata": {},
     "output_type": "execute_result"
    }
   ],
   "source": [
    "esp_models[3].gen_trayect(20)"
   ]
  },
  {
   "cell_type": "markdown",
   "metadata": {
    "id": "wlGg3PGg7DWM"
   },
   "source": [
    "Modelo español, $k=4$:"
   ]
  },
  {
   "cell_type": "code",
   "execution_count": null,
   "metadata": {
    "colab": {
     "base_uri": "https://localhost:8080/"
    },
    "id": "G_9UOOyO7DWO",
    "outputId": "8bd2b592-05de-4b0f-8cc9-99cb82773d40"
   },
   "outputs": [
    {
     "data": {
      "text/plain": [
       "['diagnoticipios ',\n",
       " 'todos ',\n",
       " 'unificación ',\n",
       " 'suelta ',\n",
       " 'hablamo ',\n",
       " 'impune ',\n",
       " 'verdades ',\n",
       " 'sustodido ',\n",
       " 'mismo ',\n",
       " 'hora ',\n",
       " 'espete ',\n",
       " 'buena ',\n",
       " 'fortad ',\n",
       " 'presentirantiálgicas ',\n",
       " 'amigos ',\n",
       " 'producir ',\n",
       " 'cuando ',\n",
       " 'formación ',\n",
       " 'formas ',\n",
       " 'episodios ']"
      ]
     },
     "execution_count": 67,
     "metadata": {},
     "output_type": "execute_result"
    }
   ],
   "source": [
    "esp_models[4].gen_trayect(20)"
   ]
  },
  {
   "cell_type": "markdown",
   "metadata": {
    "id": "Z2D_mEnI7Iiz"
   },
   "source": [
    "Modelo español, $k=6$:"
   ]
  },
  {
   "cell_type": "code",
   "execution_count": null,
   "metadata": {
    "colab": {
     "base_uri": "https://localhost:8080/"
    },
    "id": "z58r-y617Ii0",
    "outputId": "67dc28bf-09d6-4bae-dec0-004d6b03f312"
   },
   "outputs": [
    {
     "data": {
      "text/plain": [
       "['somnolencia ',\n",
       " 'respaldo ',\n",
       " 'morenas ',\n",
       " 'ejecutivas ',\n",
       " 'social ',\n",
       " 'infinity ',\n",
       " 'numerosos ',\n",
       " 'alemania ',\n",
       " 'alguna ',\n",
       " 'wollstonecraft ',\n",
       " 'percepción ',\n",
       " 'recogida ',\n",
       " 'nacional ',\n",
       " 'descubrí ',\n",
       " 'ostentarabintantino ',\n",
       " 'también ',\n",
       " 'constitución ',\n",
       " 'juntos ',\n",
       " 'formalidad ',\n",
       " 'acerca ']"
      ]
     },
     "execution_count": 68,
     "metadata": {},
     "output_type": "execute_result"
    }
   ],
   "source": [
    "esp_models[6].gen_trayect(20)"
   ]
  },
  {
   "cell_type": "markdown",
   "metadata": {
    "id": "1YRsQCVG7On3"
   },
   "source": [
    "Modelo español, $k=8$:"
   ]
  },
  {
   "cell_type": "code",
   "execution_count": null,
   "metadata": {
    "colab": {
     "base_uri": "https://localhost:8080/"
    },
    "id": "gdL5S_Ql7On6",
    "outputId": "5742bbcd-fb45-4994-e85c-1ebfd56204ee"
   },
   "outputs": [
    {
     "data": {
      "text/plain": [
       "['felicitación ',\n",
       " 'denominada ',\n",
       " 'artistas ',\n",
       " 'desarrolla ',\n",
       " 'jeremías ',\n",
       " 'convivencia ',\n",
       " 'eficacia ',\n",
       " 'privilegio ',\n",
       " 'palabras ',\n",
       " 'revolución ',\n",
       " 'economía ',\n",
       " 'revistas ',\n",
       " 'práctica ',\n",
       " 'pasajeros ',\n",
       " 'crediticia ',\n",
       " 'proyectos ',\n",
       " 'incluido ',\n",
       " 'formalidad ',\n",
       " 'naturalizado ',\n",
       " 'vacilante ']"
      ]
     },
     "execution_count": 69,
     "metadata": {},
     "output_type": "execute_result"
    }
   ],
   "source": [
    "esp_models[8].gen_trayect(20)"
   ]
  },
  {
   "cell_type": "markdown",
   "metadata": {
    "id": "zB6HWQMbU7um"
   },
   "source": [
    "Podemos comprobar que el modelo es capaz de generar palabras nuevas con características compatibles al español.\n",
    "\n",
    "Una de las cosas más llamativas, y que es característica de este modelo, es la dependencia del resultado con el $k$ de la aproximación, que actúa como una especie de parámetro de suavizado. \n",
    "\n",
    "* Cuánto mayor es $k$ mejor se reproduce la estructura del idioma porque se mantiene más información temporal, pero a la vez se obtienen palabras menos novedosas.\n",
    "\n",
    "* Por el mismo motivo, un $k$ alto puede dar lugar a sobreajuste frente al corpus concreto utilizado (en vez de reflejar las características del idioma en su totalidad). Un $k$ bajo tiende a evitar el sobreajuste al considerar características simples.\n",
    "\n",
    "El punto óptimo para la generación de palabras novedosas compatibles con el idioma parece encontrarse en $k\\sim [3,4]$."
   ]
  },
  {
   "cell_type": "markdown",
   "metadata": {
    "id": "iV-EJQc47e-6"
   },
   "source": [
    "Modelo inglés, $k=1$:"
   ]
  },
  {
   "cell_type": "code",
   "execution_count": null,
   "metadata": {
    "colab": {
     "base_uri": "https://localhost:8080/"
    },
    "id": "Kl1DtwAw7e-8",
    "outputId": "fc78a5c9-e85f-49ca-992b-020301cf5d43"
   },
   "outputs": [
    {
     "data": {
      "text/plain": [
       "['micowand ',\n",
       " 'rs ',\n",
       " 'fren ',\n",
       " 'jat ',\n",
       " 'e ',\n",
       " 'nome ',\n",
       " 'ourathe ',\n",
       " 'paerwe ',\n",
       " 'ts ',\n",
       " 'wiorofondea ',\n",
       " 'ghe ',\n",
       " 'atinyecocth ',\n",
       " 'ts ',\n",
       " 'bonipoher ',\n",
       " 's ',\n",
       " 'meistag ',\n",
       " 'shen ',\n",
       " 'ppasthe ',\n",
       " 'h ',\n",
       " 'e ']"
      ]
     },
     "execution_count": 70,
     "metadata": {},
     "output_type": "execute_result"
    }
   ],
   "source": [
    "eng_models[1].gen_trayect(20)"
   ]
  },
  {
   "cell_type": "markdown",
   "metadata": {
    "id": "EwFyOo9_7e--"
   },
   "source": [
    "Modelo inglés, $k=2$:"
   ]
  },
  {
   "cell_type": "code",
   "execution_count": null,
   "metadata": {
    "colab": {
     "base_uri": "https://localhost:8080/"
    },
    "id": "DczAM4xN7e--",
    "outputId": "4342deb1-ac70-4d2b-e5a3-b39591b54319"
   },
   "outputs": [
    {
     "data": {
      "text/plain": [
       "['alin ',\n",
       " 'handia ',\n",
       " 'colvaly ',\n",
       " 'muchs ',\n",
       " 'rept ',\n",
       " 'itintaticareve ',\n",
       " 'emonter ',\n",
       " 'acteasellpeflarly ',\n",
       " 'thoreared ',\n",
       " 'the ',\n",
       " 'and ',\n",
       " 'widepleas ',\n",
       " 'as ',\n",
       " 'min ',\n",
       " 'rehintse ',\n",
       " 'grapposteve ',\n",
       " 'calgore ',\n",
       " 'on ',\n",
       " 'youricalland ',\n",
       " 'to ']"
      ]
     },
     "execution_count": 71,
     "metadata": {},
     "output_type": "execute_result"
    }
   ],
   "source": [
    "eng_models[2].gen_trayect(20)"
   ]
  },
  {
   "cell_type": "markdown",
   "metadata": {
    "id": "sAW2VrF87e-_"
   },
   "source": [
    "Modelo inglés, $k=3$:"
   ]
  },
  {
   "cell_type": "code",
   "execution_count": null,
   "metadata": {
    "colab": {
     "base_uri": "https://localhost:8080/"
    },
    "id": "MwInBs-u7e_A",
    "outputId": "01ac62e0-5487-4ac0-fd3e-3efc1f74f010"
   },
   "outputs": [
    {
     "data": {
      "text/plain": [
       "['next ',\n",
       " 'nam ',\n",
       " 'conshing ',\n",
       " 'aborattrave ',\n",
       " 'previoles ',\n",
       " 'ared ',\n",
       " 'pay ',\n",
       " 'into ',\n",
       " 'were ',\n",
       " 'areath ',\n",
       " 'fricand ',\n",
       " 'the ',\n",
       " 'reven ',\n",
       " 'list ',\n",
       " 'and ',\n",
       " 'cottom ',\n",
       " 'whit ',\n",
       " 'her ',\n",
       " 'fland ',\n",
       " 'give ']"
      ]
     },
     "execution_count": 72,
     "metadata": {},
     "output_type": "execute_result"
    }
   ],
   "source": [
    "eng_models[3].gen_trayect(20)"
   ]
  },
  {
   "cell_type": "markdown",
   "metadata": {
    "id": "0OJ1vyGS7e_B"
   },
   "source": [
    "Modelo inglés, $k=4$:"
   ]
  },
  {
   "cell_type": "code",
   "execution_count": null,
   "metadata": {
    "colab": {
     "base_uri": "https://localhost:8080/"
    },
    "id": "wPT1z-Je7e_B",
    "outputId": "6e63eb5e-a14b-479e-a310-2ff4e921297f"
   },
   "outputs": [
    {
     "data": {
      "text/plain": [
       "['closed ',\n",
       " 'introve ',\n",
       " 'inmately ',\n",
       " 'than ',\n",
       " 'acade ',\n",
       " 'dire ',\n",
       " 'mediancertainless ',\n",
       " 'named ',\n",
       " 'necess ',\n",
       " 'trade ',\n",
       " 'this ',\n",
       " 'billions ',\n",
       " 'andred ',\n",
       " 'different ',\n",
       " 'literational ',\n",
       " 'they ',\n",
       " 'economicided ',\n",
       " 'still ',\n",
       " 'barbaris ',\n",
       " 'would ']"
      ]
     },
     "execution_count": 73,
     "metadata": {},
     "output_type": "execute_result"
    }
   ],
   "source": [
    "eng_models[4].gen_trayect(20)"
   ]
  },
  {
   "cell_type": "markdown",
   "metadata": {
    "id": "fwyKgvmr7e_C"
   },
   "source": [
    "Modelo inglés, $k=6$:"
   ]
  },
  {
   "cell_type": "code",
   "execution_count": null,
   "metadata": {
    "colab": {
     "base_uri": "https://localhost:8080/"
    },
    "id": "opxYbxeI7e_C",
    "outputId": "50fc1cbd-1f4b-4fef-b186-c3d332b628d2"
   },
   "outputs": [
    {
     "data": {
      "text/plain": [
       "['moynihan ',\n",
       " 'roaring ',\n",
       " 'gunkai ',\n",
       " 'behavioral ',\n",
       " 'completed ',\n",
       " 'championship ',\n",
       " 'should ',\n",
       " 'patterns ',\n",
       " 'specifically ',\n",
       " 'police ',\n",
       " 'arabia ',\n",
       " 'tocqueville ',\n",
       " 'canned ',\n",
       " 'activism ',\n",
       " 'street ',\n",
       " 'personnel ',\n",
       " 'medicine ',\n",
       " 'advantage ',\n",
       " 'awaited ',\n",
       " 'practice ']"
      ]
     },
     "execution_count": 74,
     "metadata": {},
     "output_type": "execute_result"
    }
   ],
   "source": [
    "eng_models[6].gen_trayect(20)"
   ]
  },
  {
   "cell_type": "markdown",
   "metadata": {
    "id": "YcHxuZ887e_D"
   },
   "source": [
    "Modelo inglés, $k=8$:"
   ]
  },
  {
   "cell_type": "code",
   "execution_count": null,
   "metadata": {
    "colab": {
     "base_uri": "https://localhost:8080/"
    },
    "id": "LqVz6pGF7e_D",
    "outputId": "ae662821-bb88-4621-9c1d-2dff8a7bfcbb"
   },
   "outputs": [
    {
     "data": {
      "text/plain": [
       "['administration ',\n",
       " 'investments ',\n",
       " 'obviously ',\n",
       " 'children ',\n",
       " 'memorized ',\n",
       " 'colombia ',\n",
       " 'valorized ',\n",
       " 'christmas ',\n",
       " 'seasoned ',\n",
       " 'longitudinal ',\n",
       " 'politically ',\n",
       " 'available ',\n",
       " 'technology ',\n",
       " 'consistent ',\n",
       " 'copyright ',\n",
       " 'including ',\n",
       " 'desperate ',\n",
       " 'supermarket ',\n",
       " 'forefront ',\n",
       " 'oklahoma ']"
      ]
     },
     "execution_count": 75,
     "metadata": {},
     "output_type": "execute_result"
    }
   ],
   "source": [
    "eng_models[8].gen_trayect(20)"
   ]
  },
  {
   "cell_type": "markdown",
   "metadata": {
    "id": "cnwo9wp5XJKH"
   },
   "source": [
    "El modelo de inglés también es capaz de generar palabras nuevas compatibles con el inglés.\n",
    "\n",
    "De nuevo se observa el dilema entre novedad y corrección con el valor de $k$ y un punto óptimo para la generación de palabras en $k\\sim [3,4]$."
   ]
  },
  {
   "cell_type": "markdown",
   "metadata": {
    "id": "sAVBtt4FBa-S"
   },
   "source": [
    "### 2. Verosimilitud de palabras ante los distintos modelos"
   ]
  },
  {
   "cell_type": "markdown",
   "metadata": {
    "id": "mGir3cH5dN2q"
   },
   "source": [
    "#### Modelo español:"
   ]
  },
  {
   "cell_type": "markdown",
   "metadata": {
    "id": "M27Ps90uX_2n"
   },
   "source": [
    "Primero se comprobará como responde el modelo ante palabras españolas más o menos típicas."
   ]
  },
  {
   "cell_type": "code",
   "execution_count": null,
   "metadata": {
    "colab": {
     "base_uri": "https://localhost:8080/"
    },
    "id": "TicOFtp-C-Eh",
    "outputId": "e22579ca-72bb-45d4-fee6-dfc6e9b61262"
   },
   "outputs": [
    {
     "name": "stdout",
     "output_type": "stream",
     "text": [
      "Patata (común): \n",
      "---\n",
      "k=2: -2.38316301175871\n",
      "k=3: -2.334836018951301\n",
      "k=4: -1.9087259381643729\n"
     ]
    }
   ],
   "source": [
    "print(\"Patata (común): \\n---\")\n",
    "for i in [2,3,4]:\n",
    "  print(f\"k={i}:\", esp_models[i].log_lik(\"patata \")[0])"
   ]
  },
  {
   "cell_type": "code",
   "execution_count": null,
   "metadata": {
    "colab": {
     "base_uri": "https://localhost:8080/"
    },
    "id": "dhT8_jLraNdS",
    "outputId": "9fead29d-47b0-4a1d-f84c-b9177da987b3"
   },
   "outputs": [
    {
     "name": "stdout",
     "output_type": "stream",
     "text": [
      "Zapato (común): \n",
      "---\n",
      "k=2: -2.931974834003635\n",
      "k=3: -2.2047765845494363\n",
      "k=4: -1.6976607795073753\n"
     ]
    }
   ],
   "source": [
    "print(\"Zapato (común): \\n---\")\n",
    "for i in [2,3,4]:\n",
    "  print(f\"k={i}:\", esp_models[i].log_lik(\"zapato \")[0])"
   ]
  },
  {
   "cell_type": "code",
   "execution_count": null,
   "metadata": {
    "colab": {
     "base_uri": "https://localhost:8080/"
    },
    "id": "2I_DzWY_aTpr",
    "outputId": "42ce3645-1698-4e55-fb7c-be8deef19c64"
   },
   "outputs": [
    {
     "name": "stdout",
     "output_type": "stream",
     "text": [
      "Conejo (común)\n",
      "k=2: -1.7859342606452249\n",
      "k=3: -2.402258430309169\n",
      "k=4: -1.602335930861024\n"
     ]
    }
   ],
   "source": [
    "print(\"Conejo (común)\")\n",
    "for i in [2,3,4]:\n",
    "  print(f\"k={i}:\", esp_models[i].log_lik(\"conejo \")[0])"
   ]
  },
  {
   "cell_type": "code",
   "execution_count": null,
   "metadata": {
    "colab": {
     "base_uri": "https://localhost:8080/"
    },
    "id": "wD3b1U_NZVtu",
    "outputId": "8d00e923-862a-4dd9-f248-5f8782d6634e"
   },
   "outputs": [
    {
     "name": "stdout",
     "output_type": "stream",
     "text": [
      "Altramuz (medio): \n",
      "---\n",
      "k=2: -3.3750128868651577\n",
      "k=3: -inf\n",
      "k=4: -inf\n"
     ]
    }
   ],
   "source": [
    "print(\"Altramuz (medio): \\n---\")\n",
    "for i in [2,3,4]:\n",
    "  print(f\"k={i}:\", esp_models[i].log_lik(\"altramuz \")[0])"
   ]
  },
  {
   "cell_type": "code",
   "execution_count": null,
   "metadata": {
    "colab": {
     "base_uri": "https://localhost:8080/"
    },
    "id": "zWz3O2FKZf4x",
    "outputId": "2352bb93-27a0-4baa-c522-a0455fe97b02"
   },
   "outputs": [
    {
     "name": "stdout",
     "output_type": "stream",
     "text": [
      "Recíproco (medio): \n",
      "---\n",
      "k=2: -2.467356082120955\n",
      "k=3: -2.166416996586181\n",
      "k=4: -1.9897235721755664\n"
     ]
    }
   ],
   "source": [
    "print(\"Recíproco (medio): \\n---\")\n",
    "for i in [2,3,4]:\n",
    "  print(f\"k={i}:\", esp_models[i].log_lik(\"recíproco \")[0])"
   ]
  },
  {
   "cell_type": "code",
   "execution_count": null,
   "metadata": {
    "colab": {
     "base_uri": "https://localhost:8080/"
    },
    "id": "_PYEYq5xZprV",
    "outputId": "751b3841-8684-45e7-905c-faff02ca3e4d"
   },
   "outputs": [
    {
     "name": "stdout",
     "output_type": "stream",
     "text": [
      "Argamasa (medio): \n",
      "---\n",
      "k=2: -2.521251483931268\n",
      "k=3: -2.4488315684421442\n",
      "k=4: -inf\n"
     ]
    }
   ],
   "source": [
    "print(\"Argamasa (medio): \\n---\")\n",
    "for i in [2,3,4]:\n",
    "  print(f\"k={i}:\", esp_models[i].log_lik(\"argamasa \")[0])"
   ]
  },
  {
   "cell_type": "code",
   "execution_count": null,
   "metadata": {
    "colab": {
     "base_uri": "https://localhost:8080/"
    },
    "id": "74gYJ-FTa5qd",
    "outputId": "79143d73-c979-4924-c884-0743649b370e"
   },
   "outputs": [
    {
     "name": "stdout",
     "output_type": "stream",
     "text": [
      "Arrebol (raro): \n",
      "---\n",
      "k=2: -2.8915153029985743\n",
      "k=3: -2.597948520460691\n",
      "k=4: -2.704339362521465\n"
     ]
    }
   ],
   "source": [
    "print(\"Arrebol (raro): \\n---\")\n",
    "for i in [2,3,4]:\n",
    "  print(f\"k={i}:\", esp_models[i].log_lik(\"arrebol \")[0])"
   ]
  },
  {
   "cell_type": "code",
   "execution_count": null,
   "metadata": {
    "colab": {
     "base_uri": "https://localhost:8080/"
    },
    "id": "uJ6E7_AdbCtW",
    "outputId": "42461d9c-9ca1-44e0-bff6-f56b3bee4565"
   },
   "outputs": [
    {
     "name": "stdout",
     "output_type": "stream",
     "text": [
      "Ebúrneo (raro): \n",
      "---\n",
      "k=2: -inf\n",
      "k=3: -inf\n",
      "k=4: -inf\n"
     ]
    },
    {
     "name": "stderr",
     "output_type": "stream",
     "text": [
      "/usr/local/lib/python3.7/dist-packages/ipykernel_launcher.py:36: DeprecationWarning: The truth value of an empty array is ambiguous. Returning False, but in future this will result in an error. Use `array.size > 0` to check that an array is not empty.\n"
     ]
    }
   ],
   "source": [
    "print(\"Ebúrneo (raro): \\n---\")\n",
    "for i in [2,3,4]:\n",
    "  print(f\"k={i}:\", esp_models[i].log_lik(\"ebúrneo \")[0])"
   ]
  },
  {
   "cell_type": "code",
   "execution_count": null,
   "metadata": {
    "colab": {
     "base_uri": "https://localhost:8080/"
    },
    "id": "dUPGDuiLbMA7",
    "outputId": "d25e679b-2cf6-4780-82a4-d9aa748062b6"
   },
   "outputs": [
    {
     "name": "stdout",
     "output_type": "stream",
     "text": [
      "Jerigonza (raro): \n",
      "---\n",
      "k=2: -2.8205811690390923\n",
      "k=3: -3.064303921628782\n",
      "k=4: -inf\n"
     ]
    }
   ],
   "source": [
    "print(\"Jerigonza (raro): \\n---\")\n",
    "for i in [2,3,4]:\n",
    "  print(f\"k={i}:\", esp_models[i].log_lik(\"jerigonza \")[0])"
   ]
  },
  {
   "cell_type": "markdown",
   "metadata": {
    "id": "hZ6m_qPObbyi"
   },
   "source": [
    "En estos ejemplos el modelo tiende a asignar mayores verosimilitudes a las palabras que suenan más \"normales\".\n",
    "\n",
    "Uno de los motivos de que las palabras \"medias\" y \"raras\" tengan baja similitud puede ser la presencia de pares de consonantes, que en general son menos probables que la alternancia de vocales y consonantes."
   ]
  },
  {
   "cell_type": "markdown",
   "metadata": {
    "id": "ZBEo2Cz_ccFI"
   },
   "source": [
    "A continuación se comprueba como responde ante palabras de otros idiomas:"
   ]
  },
  {
   "cell_type": "code",
   "execution_count": null,
   "metadata": {
    "colab": {
     "base_uri": "https://localhost:8080/"
    },
    "id": "M40Bzxm5chx_",
    "outputId": "a2eb0a93-8b0c-4a03-b45f-4e3b8a6ea794"
   },
   "outputs": [
    {
     "name": "stdout",
     "output_type": "stream",
     "text": [
      "Faculty (inglés): \n",
      "---\n",
      "k=2: -2.751128199653689\n",
      "k=3: -inf\n",
      "k=4: -inf\n"
     ]
    }
   ],
   "source": [
    "print(\"Faculty (inglés): \\n---\")\n",
    "for i in [2,3,4]:\n",
    "  print(f\"k={i}:\", esp_models[i].log_lik(\"faculty \")[0])"
   ]
  },
  {
   "cell_type": "code",
   "execution_count": null,
   "metadata": {
    "colab": {
     "base_uri": "https://localhost:8080/"
    },
    "id": "ezceDvXlcmmw",
    "outputId": "fd0c1728-310a-46e7-8647-54635783a5fe"
   },
   "outputs": [
    {
     "name": "stdout",
     "output_type": "stream",
     "text": [
      "Kokoro (japonés): \n",
      "---\n",
      "k=2: -3.455209641660894\n",
      "k=3: -inf\n",
      "k=4: -inf\n"
     ]
    },
    {
     "name": "stderr",
     "output_type": "stream",
     "text": [
      "/usr/local/lib/python3.7/dist-packages/ipykernel_launcher.py:36: DeprecationWarning: The truth value of an empty array is ambiguous. Returning False, but in future this will result in an error. Use `array.size > 0` to check that an array is not empty.\n"
     ]
    }
   ],
   "source": [
    "print(\"Kokoro (japonés): \\n---\")\n",
    "for i in [2,3,4]:\n",
    "  print(f\"k={i}:\", esp_models[i].log_lik(\"kokoro \")[0])"
   ]
  },
  {
   "cell_type": "code",
   "execution_count": null,
   "metadata": {
    "colab": {
     "base_uri": "https://localhost:8080/"
    },
    "id": "dn46zKKzcrWN",
    "outputId": "31014110-dce8-4009-e8c6-a37f624070fc"
   },
   "outputs": [
    {
     "name": "stdout",
     "output_type": "stream",
     "text": [
      "Mauvais (francés): \n",
      "---\n",
      "k=2: -4.258738725802563\n",
      "k=3: -inf\n",
      "k=4: -inf\n"
     ]
    },
    {
     "name": "stderr",
     "output_type": "stream",
     "text": [
      "/usr/local/lib/python3.7/dist-packages/ipykernel_launcher.py:36: DeprecationWarning: The truth value of an empty array is ambiguous. Returning False, but in future this will result in an error. Use `array.size > 0` to check that an array is not empty.\n"
     ]
    }
   ],
   "source": [
    "print(\"Mauvais (francés): \\n---\")\n",
    "for i in [2,3,4]:\n",
    "  print(f\"k={i}:\", esp_models[i].log_lik(\"mauvais \")[0])"
   ]
  },
  {
   "cell_type": "markdown",
   "metadata": {
    "id": "J05vuTz9c_Wn"
   },
   "source": [
    "El modelo tiende a asignar verosimilitudes muy bajas a las palabras de otros idiomas, llegando a considerarlas \"imposibles\" consistentemente con $k\\ge3$."
   ]
  },
  {
   "cell_type": "markdown",
   "metadata": {
    "id": "m0k_wgrBdTNO"
   },
   "source": [
    "#### Modelo inglés:"
   ]
  },
  {
   "cell_type": "markdown",
   "metadata": {
    "id": "ccf4U6AwdTNQ"
   },
   "source": [
    "Respuesta del modelo ante palabras inglesas más o menos típicas."
   ]
  },
  {
   "cell_type": "code",
   "execution_count": null,
   "metadata": {
    "colab": {
     "base_uri": "https://localhost:8080/"
    },
    "id": "L5eaEzLVdTNS",
    "outputId": "701d868a-740d-46d3-ec73-c6dcacf775bc"
   },
   "outputs": [
    {
     "name": "stdout",
     "output_type": "stream",
     "text": [
      "Follow (común): \n",
      "---\n",
      "k=2: -2.115017772053995\n",
      "k=3: -1.4241036126719224\n",
      "k=4: -1.1584726063046955\n"
     ]
    }
   ],
   "source": [
    "print(\"Follow (común): \\n---\")\n",
    "for i in [2,3,4]:\n",
    "  print(f\"k={i}:\", eng_models[i].log_lik(\"follow \")[0])"
   ]
  },
  {
   "cell_type": "code",
   "execution_count": null,
   "metadata": {
    "colab": {
     "base_uri": "https://localhost:8080/"
    },
    "id": "r4fagKOydTNU",
    "outputId": "329319c3-a1a7-4a6c-c92a-1add35a31dad"
   },
   "outputs": [
    {
     "name": "stdout",
     "output_type": "stream",
     "text": [
      "Building (común): \n",
      "---\n",
      "k=2: -1.9250911656303964\n",
      "k=3: -1.1046001991798398\n",
      "k=4: -0.8686828118982648\n"
     ]
    }
   ],
   "source": [
    "print(\"Building (común): \\n---\")\n",
    "for i in [2,3,4]:\n",
    "  print(f\"k={i}:\", eng_models[i].log_lik(\"building \")[0])"
   ]
  },
  {
   "cell_type": "code",
   "execution_count": null,
   "metadata": {
    "colab": {
     "base_uri": "https://localhost:8080/"
    },
    "id": "Ek26SJ1AdTNV",
    "outputId": "182b46ea-1a1d-4e18-d68e-283ff6d6df71"
   },
   "outputs": [
    {
     "name": "stdout",
     "output_type": "stream",
     "text": [
      "History (común)\n",
      "k=2: -1.9929510408858073\n",
      "k=3: -1.558862375440431\n",
      "k=4: -1.0380253485076971\n"
     ]
    }
   ],
   "source": [
    "print(\"History (común)\")\n",
    "for i in [2,3,4]:\n",
    "  print(f\"k={i}:\", eng_models[i].log_lik(\"history \")[0])"
   ]
  },
  {
   "cell_type": "code",
   "execution_count": null,
   "metadata": {
    "colab": {
     "base_uri": "https://localhost:8080/"
    },
    "id": "vhOW5n1jdTNX",
    "outputId": "6042c4f0-28a4-4eb1-9a03-7f06c0e41035"
   },
   "outputs": [
    {
     "name": "stdout",
     "output_type": "stream",
     "text": [
      "Scoundrel (medio): \n",
      "---\n",
      "k=2: -2.358879409071885\n",
      "k=3: -2.525295098034643\n",
      "k=4: -3.073543602555371\n"
     ]
    }
   ],
   "source": [
    "print(\"Scoundrel (medio): \\n---\")\n",
    "for i in [2,3,4]:\n",
    "  print(f\"k={i}:\", eng_models[i].log_lik(\"scoundrel \")[0])"
   ]
  },
  {
   "cell_type": "code",
   "execution_count": null,
   "metadata": {
    "colab": {
     "base_uri": "https://localhost:8080/"
    },
    "id": "nT_2EJzRdTNZ",
    "outputId": "78392e5e-a5f6-4027-ce18-3634b3e5692a"
   },
   "outputs": [
    {
     "name": "stdout",
     "output_type": "stream",
     "text": [
      "Wobble (medio): \n",
      "---\n",
      "k=2: -2.611586622204378\n",
      "k=3: -2.0419449074183977\n",
      "k=4: -1.7246108285364283\n"
     ]
    }
   ],
   "source": [
    "print(\"Wobble (medio): \\n---\")\n",
    "for i in [2,3,4]:\n",
    "  print(f\"k={i}:\", eng_models[i].log_lik(\"wobble \")[0])"
   ]
  },
  {
   "cell_type": "code",
   "execution_count": null,
   "metadata": {
    "colab": {
     "base_uri": "https://localhost:8080/"
    },
    "id": "20G0HgxBdTNb",
    "outputId": "7ed604dd-1733-4185-b0f8-b29d17828f72"
   },
   "outputs": [
    {
     "name": "stdout",
     "output_type": "stream",
     "text": [
      "Gauge (medio): \n",
      "---\n",
      "k=2: -2.825440593538984\n",
      "k=3: -2.3903229444935272\n",
      "k=4: -1.7861380852854027\n"
     ]
    }
   ],
   "source": [
    "print(\"Gauge (medio): \\n---\")\n",
    "for i in [2,3,4]:\n",
    "  print(f\"k={i}:\", eng_models[i].log_lik(\"gauge \")[0])"
   ]
  },
  {
   "cell_type": "code",
   "execution_count": null,
   "metadata": {
    "colab": {
     "base_uri": "https://localhost:8080/"
    },
    "id": "eL-D3kp9dTNc",
    "outputId": "123ddfe1-6ac2-4fdd-f053-c01968a67b1f"
   },
   "outputs": [
    {
     "name": "stdout",
     "output_type": "stream",
     "text": [
      "Bamboozled (raro): \n",
      "---\n",
      "k=2: -2.988277048113295\n",
      "k=3: -2.880787865257957\n",
      "k=4: -inf\n"
     ]
    }
   ],
   "source": [
    "print(\"Bamboozled (raro): \\n---\")\n",
    "for i in [2,3,4]:\n",
    "  print(f\"k={i}:\", eng_models[i].log_lik(\"bamboozled \")[0])"
   ]
  },
  {
   "cell_type": "code",
   "execution_count": null,
   "metadata": {
    "colab": {
     "base_uri": "https://localhost:8080/"
    },
    "id": "DaH2htSVdTNe",
    "outputId": "975760c9-0f35-4f88-addb-c52aa86aad38"
   },
   "outputs": [
    {
     "name": "stdout",
     "output_type": "stream",
     "text": [
      "Flabbergast (raro): \n",
      "---\n",
      "k=2: -2.6281897790565374\n",
      "k=3: -2.7438603454998076\n",
      "k=4: -3.224199924675625\n"
     ]
    }
   ],
   "source": [
    "print(\"Flabbergast (raro): \\n---\")\n",
    "for i in [2,3,4]:\n",
    "  print(f\"k={i}:\", eng_models[i].log_lik(\"flabbergast \")[0])"
   ]
  },
  {
   "cell_type": "code",
   "execution_count": null,
   "metadata": {
    "colab": {
     "base_uri": "https://localhost:8080/"
    },
    "id": "bCsbvEo4dTNe",
    "outputId": "5b08b594-92f9-4364-bf42-3331f638b56a"
   },
   "outputs": [
    {
     "name": "stdout",
     "output_type": "stream",
     "text": [
      "Jentacular (raro): \n",
      "---\n",
      "k=2: -2.628788276986164\n",
      "k=3: -inf\n",
      "k=4: -inf\n"
     ]
    },
    {
     "name": "stderr",
     "output_type": "stream",
     "text": [
      "/usr/local/lib/python3.7/dist-packages/ipykernel_launcher.py:36: DeprecationWarning: The truth value of an empty array is ambiguous. Returning False, but in future this will result in an error. Use `array.size > 0` to check that an array is not empty.\n"
     ]
    }
   ],
   "source": [
    "print(\"Jentacular (raro): \\n---\")\n",
    "for i in [2,3,4]:\n",
    "  print(f\"k={i}:\", eng_models[i].log_lik(\"jentacular \")[0])"
   ]
  },
  {
   "cell_type": "markdown",
   "metadata": {
    "id": "VN6c4hiNdTNf"
   },
   "source": [
    "En estos ejemplos las palabras que suenan \"normales\" también tienden a tener verosimilitudes más bajas."
   ]
  },
  {
   "cell_type": "markdown",
   "metadata": {
    "id": "a5A7-QTLdTNg"
   },
   "source": [
    "A continuación se comprueba como responde ante palabras de otros idiomas:"
   ]
  },
  {
   "cell_type": "code",
   "execution_count": null,
   "metadata": {
    "colab": {
     "base_uri": "https://localhost:8080/"
    },
    "id": "rNA6DMBLdTNh",
    "outputId": "30f2de2f-87d5-4c54-8f96-8eb8bd986781"
   },
   "outputs": [
    {
     "name": "stdout",
     "output_type": "stream",
     "text": [
      "Especialidad (español): \n",
      "---\n",
      "k=2: -2.507515242324848\n",
      "k=3: -1.8289236447340274\n",
      "k=4: -1.8581488696787585\n"
     ]
    }
   ],
   "source": [
    "print(\"Especialidad (español): \\n---\")\n",
    "for i in [2,3,4]:\n",
    "  print(f\"k={i}:\", eng_models[i].log_lik(\"especialidad \")[0])"
   ]
  },
  {
   "cell_type": "code",
   "execution_count": null,
   "metadata": {
    "colab": {
     "base_uri": "https://localhost:8080/"
    },
    "id": "mKOG0YzDdTNi",
    "outputId": "2176e12a-827b-47d0-82cf-185726b90aef"
   },
   "outputs": [
    {
     "name": "stdout",
     "output_type": "stream",
     "text": [
      "Kokoro (japonés): \n",
      "---\n",
      "k=2: -4.318474313207795\n",
      "k=3: -inf\n",
      "k=4: -inf\n"
     ]
    }
   ],
   "source": [
    "print(\"Kokoro (japonés): \\n---\")\n",
    "for i in [2,3,4]:\n",
    "  print(f\"k={i}:\", eng_models[i].log_lik(\"kokoro \")[0])"
   ]
  },
  {
   "cell_type": "code",
   "execution_count": null,
   "metadata": {
    "colab": {
     "base_uri": "https://localhost:8080/"
    },
    "id": "KidM8MhbdTNj",
    "outputId": "d7d72ed9-caac-4dda-96c1-cfd8b899aadf"
   },
   "outputs": [
    {
     "name": "stdout",
     "output_type": "stream",
     "text": [
      "Mauvais (francés): \n",
      "---\n",
      "k=2: -3.3397266705983526\n",
      "k=3: -2.885690629208589\n",
      "k=4: -1.76180877504882\n"
     ]
    }
   ],
   "source": [
    "print(\"Mauvais (francés): \\n---\")\n",
    "for i in [2,3,4]:\n",
    "  print(f\"k={i}:\", eng_models[i].log_lik(\"mauvais \")[0])"
   ]
  },
  {
   "cell_type": "markdown",
   "metadata": {
    "id": "e--MoaZ1dTNk"
   },
   "source": [
    "El modelo tiende a asignar verosimilitudes bajas a las palabras de otros idiomas, aunque en este caso 2 tuvieron más verosimilitud qie las palabras \"raras\" del propio idioma."
   ]
  },
  {
   "cell_type": "markdown",
   "metadata": {
    "id": "boEcyi__fhpk"
   },
   "source": [
    "### 3. Clasificador de palabras en español o inglés"
   ]
  },
  {
   "cell_type": "markdown",
   "metadata": {
    "id": "i7ilNntffmlF"
   },
   "source": [
    "Inicialmente se probará el clasificador para palabras poco ambiguas."
   ]
  },
  {
   "cell_type": "code",
   "execution_count": null,
   "metadata": {
    "colab": {
     "base_uri": "https://localhost:8080/"
    },
    "id": "u22f3tdXflno",
    "outputId": "ded9f679-a7bb-40d1-b54a-d35225c0a2e3"
   },
   "outputs": [
    {
     "name": "stdout",
     "output_type": "stream",
     "text": [
      "Builder (inglés): \n",
      "---\n",
      "k=2: eng\n",
      "k=3: eng\n",
      "k=4: eng\n"
     ]
    }
   ],
   "source": [
    "print(\"Builder (inglés): \\n---\")\n",
    "for i in [2,3,4]:\n",
    "  print(f\"k={i}:\", esp_eng_clas.predict(\"builder \", i))"
   ]
  },
  {
   "cell_type": "code",
   "execution_count": null,
   "metadata": {
    "colab": {
     "base_uri": "https://localhost:8080/"
    },
    "id": "aiFqZnL6hag3",
    "outputId": "fe35aa29-b102-47f5-808f-8b160d04e7ad"
   },
   "outputs": [
    {
     "name": "stdout",
     "output_type": "stream",
     "text": [
      "Leisure (inglés): \n",
      "---\n",
      "k=2: eng\n",
      "k=3: eng\n",
      "k=4: eng\n"
     ]
    }
   ],
   "source": [
    "print(\"Leisure (inglés): \\n---\")\n",
    "for i in [2,3,4]:\n",
    "  print(f\"k={i}:\", esp_eng_clas.predict(\"leisure \", i))"
   ]
  },
  {
   "cell_type": "code",
   "execution_count": null,
   "metadata": {
    "colab": {
     "base_uri": "https://localhost:8080/"
    },
    "id": "qgrUC_4mhfQe",
    "outputId": "37fca213-3b84-4da9-b0db-988e880ca237"
   },
   "outputs": [
    {
     "name": "stdout",
     "output_type": "stream",
     "text": [
      "Papanatas (español): \n",
      "---\n",
      "k=2: esp\n",
      "k=3: esp\n",
      "k=4: esp\n"
     ]
    }
   ],
   "source": [
    "print(\"Papanatas (español): \\n---\")\n",
    "for i in [2,3,4]:\n",
    "  print(f\"k={i}:\", esp_eng_clas.predict(\"papanatas \", i))"
   ]
  },
  {
   "cell_type": "code",
   "execution_count": null,
   "metadata": {
    "colab": {
     "base_uri": "https://localhost:8080/"
    },
    "id": "X0vsu_jshjs0",
    "outputId": "2433d93b-4281-4366-b471-5a6a0f067c7c"
   },
   "outputs": [
    {
     "name": "stdout",
     "output_type": "stream",
     "text": [
      "Desierto (español): \n",
      "---\n",
      "k=2: esp\n",
      "k=3: esp\n",
      "k=4: esp\n"
     ]
    }
   ],
   "source": [
    "print(\"Desierto (español): \\n---\")\n",
    "for i in [2,3,4]:\n",
    "  print(f\"k={i}:\", esp_eng_clas.predict(\"desierto \", i))"
   ]
  },
  {
   "cell_type": "markdown",
   "metadata": {
    "id": "isCiZx7fhqLw"
   },
   "source": [
    "A continuación se probarán sus resultados con palabras que son de un idioma pero han sido prestadas del otro."
   ]
  },
  {
   "cell_type": "code",
   "execution_count": null,
   "metadata": {
    "colab": {
     "base_uri": "https://localhost:8080/"
    },
    "id": "rOPz6Nguh2qo",
    "outputId": "b181faa4-cdb7-43a1-c746-e2dc4f7fa16c"
   },
   "outputs": [
    {
     "name": "stdout",
     "output_type": "stream",
     "text": [
      "Fútbol (español <- inglés): \n",
      "---\n",
      "k=2: {'esp': array([-2.48714509]), 'eng': array([-3.40095363])}\n",
      "k=3: {'esp': array([-1.6128542]), 'eng': array([-inf])}\n",
      "k=4: {'esp': array([-1.3876181]), 'eng': array([-inf])}\n"
     ]
    },
    {
     "name": "stderr",
     "output_type": "stream",
     "text": [
      "/usr/local/lib/python3.7/dist-packages/ipykernel_launcher.py:36: DeprecationWarning: The truth value of an empty array is ambiguous. Returning False, but in future this will result in an error. Use `array.size > 0` to check that an array is not empty.\n"
     ]
    }
   ],
   "source": [
    "print(\"Fútbol (español <- inglés): \\n---\")\n",
    "for i in [2,3,4]:\n",
    "  # Ponemos futbol sin tilde porque el inglés no tiene tilde nunca y siempre da verosimilitud 0\n",
    "  print(f\"k={i}:\", esp_eng_clas.predict(\"futbol \", i, retmode=\"log_liks\"))"
   ]
  },
  {
   "cell_type": "code",
   "execution_count": null,
   "metadata": {
    "colab": {
     "base_uri": "https://localhost:8080/"
    },
    "id": "9NNZKyWNi5Eh",
    "outputId": "c79d472d-2bc3-417e-ee21-8f74d45692e2"
   },
   "outputs": [
    {
     "name": "stdout",
     "output_type": "stream",
     "text": [
      "Fútbol (español <- inglés): \n",
      "---\n",
      "k=2: {'esp': array([-2.84950217]), 'eng': array([-2.77276103])}\n",
      "k=3: {'esp': array([-2.52454593]), 'eng': array([-inf])}\n",
      "k=4: {'esp': array([-2.40948144]), 'eng': array([-inf])}\n"
     ]
    },
    {
     "name": "stderr",
     "output_type": "stream",
     "text": [
      "/usr/local/lib/python3.7/dist-packages/ipykernel_launcher.py:36: DeprecationWarning: The truth value of an empty array is ambiguous. Returning False, but in future this will result in an error. Use `array.size > 0` to check that an array is not empty.\n"
     ]
    }
   ],
   "source": [
    "print(\"Vagón (español <- inglés): \\n---\")\n",
    "for i in [2,3,4]:\n",
    "  print(f\"k={i}:\", esp_eng_clas.predict(\"vagon \", i, retmode=\"log_liks\"))"
   ]
  },
  {
   "cell_type": "code",
   "execution_count": null,
   "metadata": {
    "colab": {
     "base_uri": "https://localhost:8080/"
    },
    "id": "qxZTiPUrjDZU",
    "outputId": "31f5c43d-5198-459e-d16e-eccd15d367f3"
   },
   "outputs": [
    {
     "name": "stdout",
     "output_type": "stream",
     "text": [
      "Champú (español <- inglés): \n",
      "---\n",
      "k=2: {'esp': array([-3.45973221]), 'eng': array([-2.99436491])}\n",
      "k=3: {'esp': array([-3.3609506]), 'eng': array([-2.71406035])}\n",
      "k=4: {'esp': array([-inf]), 'eng': array([-inf])}\n"
     ]
    }
   ],
   "source": [
    "print(\"Champú (español <- inglés): \\n---\")\n",
    "for i in [2,3,4]:\n",
    "  print(f\"k={i}:\", esp_eng_clas.predict(\"champu \", i, retmode=\"log_liks\"))"
   ]
  },
  {
   "cell_type": "code",
   "execution_count": null,
   "metadata": {
    "colab": {
     "base_uri": "https://localhost:8080/"
    },
    "id": "kxUUrv7WjNsD",
    "outputId": "c0b82ef1-1d12-4b67-a589-a2d09fc506a4"
   },
   "outputs": [
    {
     "name": "stdout",
     "output_type": "stream",
     "text": [
      "Guerilla (inglés <- español): \n",
      "---\n",
      "k=2: {'esp': array([-2.34552547]), 'eng': array([-2.92188788])}\n",
      "k=3: {'esp': array([-2.27372412]), 'eng': array([-2.6693376])}\n",
      "k=4: {'esp': array([-2.22140484]), 'eng': array([-2.42379456])}\n"
     ]
    }
   ],
   "source": [
    "print(\"Guerilla (inglés <- español): \\n---\")\n",
    "for i in [2,3,4]:\n",
    "  print(f\"k={i}:\", esp_eng_clas.predict(\"guerilla \", i, retmode=\"log_liks\"))"
   ]
  },
  {
   "cell_type": "code",
   "execution_count": null,
   "metadata": {
    "colab": {
     "base_uri": "https://localhost:8080/"
    },
    "id": "h3TolKOcjdd1",
    "outputId": "6e56f2be-b722-4cb0-a375-03b922cd0db6"
   },
   "outputs": [
    {
     "name": "stdout",
     "output_type": "stream",
     "text": [
      "Avocado (inglés <- español): \n",
      "---\n",
      "k=2: {'esp': array([-2.15325084]), 'eng': array([-2.92026201])}\n",
      "k=3: {'esp': array([-2.8550493]), 'eng': array([-2.708248])}\n",
      "k=4: {'esp': array([-2.20789377]), 'eng': array([-2.16127242])}\n"
     ]
    }
   ],
   "source": [
    "print(\"Avocado (inglés <- español): \\n---\")\n",
    "for i in [2,3,4]:\n",
    "  print(f\"k={i}:\", esp_eng_clas.predict(\"avocado \", i, retmode=\"log_liks\"))"
   ]
  },
  {
   "cell_type": "code",
   "execution_count": null,
   "metadata": {
    "colab": {
     "base_uri": "https://localhost:8080/"
    },
    "id": "8NQkaX5hjocP",
    "outputId": "a310a69e-a7ad-495b-9d16-c55e022dd1ea"
   },
   "outputs": [
    {
     "name": "stdout",
     "output_type": "stream",
     "text": [
      "Vanilla (inglés <- español): \n",
      "---\n",
      "k=2: {'esp': array([-2.34405275]), 'eng': array([-3.06555914])}\n",
      "k=3: {'esp': array([-2.23719079]), 'eng': array([-2.74545128])}\n",
      "k=4: {'esp': array([-2.05527703]), 'eng': array([-1.69818001])}\n"
     ]
    }
   ],
   "source": [
    "print(\"Vanilla (inglés <- español): \\n---\")\n",
    "for i in [2,3,4]:\n",
    "  print(f\"k={i}:\", esp_eng_clas.predict(\"vanilla \", i, retmode=\"log_liks\"))"
   ]
  },
  {
   "cell_type": "markdown",
   "metadata": {
    "id": "9i7M3yRxkCid"
   },
   "source": [
    "Finalmente hacemos una pequeña prueba con un extracto de los textos del dataset para comprobar si una vez entrenado el modelo es capaz de detectar palabras que posiblemente vienen de otro idioma ($\\sim$ detección de outliers)."
   ]
  },
  {
   "cell_type": "code",
   "execution_count": null,
   "metadata": {
    "colab": {
     "base_uri": "https://localhost:8080/"
    },
    "id": "vgS8ZJxmkOBv",
    "outputId": "f6c23ba5-b0d2-4ee1-c292-c1c583699af9"
   },
   "outputs": [
    {
     "name": "stderr",
     "output_type": "stream",
     "text": [
      "/usr/local/lib/python3.7/dist-packages/ipykernel_launcher.py:36: DeprecationWarning: The truth value of an empty array is ambiguous. Returning False, but in future this will result in an error. Use `array.size > 0` to check that an array is not empty.\n",
      "/usr/local/lib/python3.7/dist-packages/ipykernel_launcher.py:46: DeprecationWarning: The truth value of an empty array is ambiguous. Returning False, but in future this will result in an error. Use `array.size > 0` to check that an array is not empty.\n"
     ]
    },
    {
     "name": "stdout",
     "output_type": "stream",
     "text": [
      "['chips', 'caltech', 'chips', 'chips']\n"
     ]
    }
   ],
   "source": [
    "esp_text = \"\"\"sólo los chips de un teléfono inteligente o de una computadora \n",
    "              podrían en un futuro próximo arreglarse solos pudiendo detectar \n",
    "              fallos en su funcionamiento y recuperarse en microsegundos \n",
    "              un equipo de ingenieros de el instituto de tecnología de california\n",
    "              caltech en eeuu ha desarrollado chips con capacidades autocurativas\n",
    "              en los experimentos los especialistas utilizaron pequeños \n",
    "              amplificadores de baja potencia que contienen un total de setenta \n",
    "              y siete chips y destruían varias partes del dispositivo con un \n",
    "              láser de alta potencia\"\"\"\n",
    "\n",
    "words = esp_text.split(\" \")\n",
    "\n",
    "eng_pred = []\n",
    "for word in words:\n",
    "  if esp_eng_clas.predict(word+\" \", 3) == \"eng\":\n",
    "    eng_pred.append(word)\n",
    "\n",
    "print(eng_pred)"
   ]
  },
  {
   "cell_type": "markdown",
   "metadata": {
    "id": "Q0hVcMARlXly"
   },
   "source": [
    "El clasificador ha sido capaz de detectar correctamente la presencia de las palabras \"chip\" y \"caltech\" como palabras agenas al idioma."
   ]
  },
  {
   "cell_type": "markdown",
   "metadata": {
    "id": "bX0dEKnPls6F"
   },
   "source": [
    "### 4. Generadores de frases aleatorias con distintos órdenes de aproximación"
   ]
  },
  {
   "cell_type": "markdown",
   "metadata": {
    "id": "BGvX8j9yls6I"
   },
   "source": [
    "Modelo español, $k=1$:"
   ]
  },
  {
   "cell_type": "code",
   "execution_count": null,
   "metadata": {
    "colab": {
     "base_uri": "https://localhost:8080/"
    },
    "id": "Q793XtYJls6J",
    "outputId": "dca3b86a-5ccc-4ceb-a70d-29aced6b21b3"
   },
   "outputs": [
    {
     "data": {
      "text/plain": [
       "['una buena meta cognición esta explicar a leer hoy los pasillos de cara como en todo eso hace cuatro elementos que tiene su economía grandes medios es una pareja de la seccional \\n',\n",
       " 'pero ya está de glamour \\n',\n",
       " 'el otro u otras ciudades mas cómoda sin ir \\n',\n",
       " 'hasta los gladiadores es capaz de forma de el agua no por cierto inteligible y enseña que en aquello de otras la falta para hacer lo envenena \\n',\n",
       " 'es la línea de las implicaciones de una manera adecuada ni demasiado elevadas a nivel de youtube \\n',\n",
       " 'ese debate así me hay multitud de el aula para la afinidad electrónica o los metales a largo porque \\n',\n",
       " 'vida personal y si piensan que no les que la popularidad que nos encontramos con el tamaño de la magnitud como el corazón de blogs se vayan para los demás la destrucción ha convertido en la responsabilidad de un problema de una parte de sexto sentido los infantes también más nutritivos no puedo aportar algo también que cometen algunos creen que será tan pocas consecuencias de quemaduras y los años cambiar el aprendizaje ya he sido contadas antes tengo la tabla pero lamentablemente de el orbital s y en el auge que introduciendo un día no se han crecido o las dudas sobre la serie muy reactivo y que tener una nueva \\n',\n",
       " 'el mismo \\n',\n",
       " 'quizás mucha gente pensante y suelen reaccionar \\n',\n",
       " 'el aloe puede estar encantados de restaurar la reforma de los temas de conocimientos muy buena planificación con los insultos y la mano \\n',\n",
       " 'mayor que el alumno que ya tiene o diabetes \\n',\n",
       " 'ojalá consigas algo a la residual en dos meses francia debido a el lanzamiento de el día yo en solitario o es que hay que la asamblea nacional ya que no directamente a la que el mantenimiento de las entendieran mis conocidos o fuerza en california caltech en practica todo era su aplicación es más electronegativo que fueron encontrando un gusto el mismo me atrae y que igualmente podría repercutir en el éxito para todos los trolls es protegiendo los recién cumplidos o si me nombre fueron las cosas la pregunta sobre qué hablar \\n',\n",
       " 'el oxígeno para la orden \\n',\n",
       " 'de toda la persecución moralina que a enseñar con la idea era consciente para ayudar \\n',\n",
       " 'de sexto sentido en que algunos conocedores de el norte de buen sitio de aquel que puedan haber contribuido a los elegían los incendios \\n',\n",
       " 'se en la radio atómico es la doblas tú a los metales y se utiliza mis recuerdos de cloro y preguntan a lo que puedas saber qué es para lograr el cómo acceder a que le dice y sentía que según su mayor z hasta ahora un mal educados se haga con excusas pasando por ejemplo el esmad con el oxigeno o campañas y educadores ya lo contrario no se alimentan mejor si realmente el üùcar s \\n',\n",
       " 'con el momento \\n',\n",
       " 'así mismo me defiendo haha miguel ángel elías prensa internacional de valiosos objetos de transición nacional ya todos los últimos años dándo le a la que es conocer dialogar ser profesores formadores de ingenieros de la ocasión porque proximamente incluiremos otros motores externos que las herramientas de hacer que no se enumeran de esta lista de el electrón más importante saber más alimentos saludables que el centro de la labor de el testigo \\n',\n",
       " 'con el saludo a la seño yoli y los niveles de northeastern en el derecho a la configuración electrónica \\n',\n",
       " 'sin embargo hay en muchas familias eligen el gasto público de esta conferencia hace con nosecuántos canales \\n']"
      ]
     },
     "execution_count": 22,
     "metadata": {},
     "output_type": "execute_result"
    }
   ],
   "source": [
    "esp_words_models[1].gen_trayect(20)"
   ]
  },
  {
   "cell_type": "markdown",
   "metadata": {
    "id": "hJi2ycbUls6K"
   },
   "source": [
    "Modelo español, $k=2$:"
   ]
  },
  {
   "cell_type": "code",
   "execution_count": null,
   "metadata": {
    "colab": {
     "base_uri": "https://localhost:8080/"
    },
    "id": "G4D1I0gJls6M",
    "outputId": "8a1d41b0-fa92-484b-bc02-2f850c53bba5"
   },
   "outputs": [
    {
     "data": {
      "text/plain": [
       "['las mismas malas condiciones educacionales \\n',\n",
       " 'no son apreciados por el contrario es perjudicial tanto para tener una cantidad de compras \\n',\n",
       " 'como en los laboratorios se pierde la ilusión \\n',\n",
       " 'la excesiva homosexualidad de la administración intranasal de estas tres supertierras han sido descubiertas a el igual que en otros de cine de videojuegos de música \\n',\n",
       " 'las consecuencias de la misma domingo de agosto a las numerosas incógnitas que plantea la operación gala está respaldada a nivel logístico por el mantenimiento de el maestro hacer ver lo contrario es perjudicial tanto para quienes nos leen como para que el avance de las fuerzas islamistas sobre la despenalización de las administraciones públicas pasa también por eliminar parlamentos autonómicos el senado y las tres de vigilancia contra el desinterés de los tres primeros años de trabajar en el colegio viajes a visitar a familiares o compras urgentes \\n',\n",
       " 'dónde está la fórmula y es debido a el cerebro \\n',\n",
       " 'esta manera y no sólo de científicos \\n',\n",
       " 'extranjeros estén recuperando la confianza en lo que os dejará las cosas eran diferentes \\n',\n",
       " 'no sé \\n',\n",
       " 'slas acuerdos de alcance en prestación de servicios experto en derecho de los trolls y la conservación de el país algunos creen que el último producto innovador de la ue está decidido a mantener sin ningún pudor y sin depilar \\n',\n",
       " 'bueno sí se cuenta con el video de carles monereo font es excelente un video enriquecedor he resuelto dudas sobre competencias y sobre todo en los metales y con los otros orbitales los átomos que se consiguen durante todo el mundo de el diario guatemalteco siglo el día comenzó con las deudas en las energías de ionización será bastante elevada \\n',\n",
       " 'posiblemente es también aconsejable dirigir se a las asamblea resolutiva en la blogosfera o aquellos que han dejado una huella indeleble de la escuela de higiene y medicina tropical de londres calcula que en verdad quiere pasar a la diversión de los turnos mañana y tarde \\n',\n",
       " 'existen suficientes artículos buenos sobre nanotecnología para taxistas aunque el tema por parte de la química \\n',\n",
       " 'los motores de el crédito desde el punto en el diario el mundo tecnológico cuyas ideas son ridículas cuando no directamente peligrosas \\n',\n",
       " 'una sociedad permisiva que educa a los astrofísicos recoger y detectar las anomalías gravitacionales que bordean las estrellas y que no nos comparemos con un láser de alta potencia \\n',\n",
       " 'una pareja de empresarios californianos hartos de la ciencia no produce grandes descubrimientos todos los ambulantes y estacionarios que se cruce el oxígeno \\n',\n",
       " 'aunque a muchos os sorprenda spartacus es una serie muy documentada históricamente para poder soportar agua \\n',\n",
       " 'no eran tan excitables como los próximos años porque cada día preguntar se antes de que la decía cuando más de lo normal aunque hubieran tenido un mal comportamiento ya que en nombre de el cómico más famoso de el momento complejo de la silla en chile \\n',\n",
       " 'además las interpretaciones de \\n',\n",
       " 'nos pondríamos en el corazón cuando en circunstancias normales no son tan fácilmente medibles los resultados en autoestima creatividad capacidad de curación similar a la alcaldesa pero bueno para la alcaldesa luz piedad valencia franco no tiene traducción es clit \\n']"
      ]
     },
     "execution_count": 23,
     "metadata": {},
     "output_type": "execute_result"
    }
   ],
   "source": [
    "esp_words_models[2].gen_trayect(20)"
   ]
  },
  {
   "cell_type": "markdown",
   "metadata": {
    "id": "MsfN2-7dls6N"
   },
   "source": [
    "Modelo español, $k=4$:"
   ]
  },
  {
   "cell_type": "code",
   "execution_count": null,
   "metadata": {
    "colab": {
     "base_uri": "https://localhost:8080/"
    },
    "id": "UZ00BoB-ls6O",
    "outputId": "377d4b2c-bfd0-4306-d101-3724e2adf9d2"
   },
   "outputs": [
    {
     "data": {
      "text/plain": [
       "['un gran evento de relaciones públicas un perfecto engranaje de propaganda de comunicación gubernamental de sofisticación para seducir a una región enorme potente dinámica que podría ayudar a torcer \\n',\n",
       " 'seguramente queramos potenciar aquellos segmentos en los que rendiremos mejor que en otros por ejemplo a nivel de conversión ventas registros clientes potenciales etc \\n',\n",
       " 'el nuevo modelo de educación a base de competencias es muy buen para lograr el desarrollo de el alumno no solo en el salon de clases sino también para su vida diaria \\n',\n",
       " 'transcurrido un tiempo veremos cómo algunos segmentos que atacamos rinden mejor que otros convierten más convierten mejor son más económicos etc \\n',\n",
       " 'y en este vídeo \\n',\n",
       " 'propiedades periódicas por fin veámoslas \\n',\n",
       " 'que hace mas de años la nueva galería se llama mercar \\n',\n",
       " 'por favor sigue tu ritmo y disfruta como lo haces \\n',\n",
       " 'que hace mas de años la nueva galería se llama mercar \\n',\n",
       " 'en la medida en que le exijas te querrá más \\n',\n",
       " 'el profesor carlos font dice que los alumnos deben tener una educación no mecánica si no una educación autentica que se relacione la educación con lo que vive a diario y evaluar lo con cosas reales \\n',\n",
       " 'de todas maneras hay gustos para todo y sino mira qué cosas ganan en audiencias de tv por ejemplo \\n',\n",
       " 'los dibujos que le dejan para hacer en este su primer año de el cole hehe \\n',\n",
       " 'y si hablamos de divulgadores científicos en españa pregunta por la calle o en mi casa y te nombrarán a punset \\n',\n",
       " 'también era común cuando conquistaban un territorio que los legionarios violaran a los hombres conquistados como una demostración de poder \\n',\n",
       " 'desde aqui puedes ir a la seccion mensajes para boletin electronico haciendo click aquí prefeririamos que usaras nuestra página de aterrisaje para ahorrar le trabajo y tiempo ademas por razones de homogeneidad y diseño ya que el usuario vera que hay uniformidad en diseño y la informacion sin embargo si usted prefiere personalicela o componga una parecida con su propio sitio \\n',\n",
       " 'su apuesta había dado resultado y tenía en el banco unos dos millones de dólares que no tardó en volcar los uno arriba de el otro en lo que siente en lo que piensa \\n',\n",
       " 'seguramente se pensó en que pudiera pasar políticamente pero eso es desperdiciar una oportunidad para hacer los cambios que en verdad se necesitan \\n',\n",
       " 'nos habla de la educación actual comparada con la tradicional ya que en la actualidad la información no es memorista si no de conocimiento no hay que tener toda la información en la mente sino saber donde \\n',\n",
       " 'dedo en la llaga \\n']"
      ]
     },
     "execution_count": 24,
     "metadata": {},
     "output_type": "execute_result"
    }
   ],
   "source": [
    "esp_words_models[4].gen_trayect(20)"
   ]
  },
  {
   "cell_type": "markdown",
   "metadata": {
    "id": "0olZ0aYKhZC3"
   },
   "source": [
    "Modelo inglés, $k=1$:"
   ]
  },
  {
   "cell_type": "code",
   "execution_count": null,
   "metadata": {
    "colab": {
     "base_uri": "https://localhost:8080/"
    },
    "id": "3YY-lE89hZC5",
    "outputId": "60d0abe7-dbfd-4d58-94cf-a8d4895e5780"
   },
   "outputs": [
    {
     "data": {
      "text/plain": [
       "['at dinner mint \\n',\n",
       " 'but changes were not all messy you were the native subsistence hunters \\n',\n",
       " 'she s eight of the draft lottery came forward to drink for alaska s \\n',\n",
       " 'they sought to evolve \\n',\n",
       " 'we boarded a kind of extinction we would not relegate them near my parents and that he d been attracted to escape from the words \\n',\n",
       " 'why teach academic subject would say that i had constituted the rookeries as the wine \\n',\n",
       " 'our reserve in daily lives within the fundamentals of dinners has found rather conducive to be much more beautiful and they had a tanned sea lions and mary s the rolling stone sept \\n',\n",
       " 'their wars with the submission of a bitch i have increased here as somewhat afraid of cold war ended st \\n',\n",
       " 'but will read the theater but it must have been an injunction \\n',\n",
       " 'my own expressed but we have been great many barbiturates \\n',\n",
       " 'once precious skins were beating up and catwalks that a seed in addition a few years old girl drummer \\n',\n",
       " 'photo black roses and juniper branches being born four teachers and the array of those we re not to me \\n',\n",
       " 'cunning and role today \\n',\n",
       " 'he was sponsored by the reader can be totally cleared of this information down and private donations \\n',\n",
       " 'it the well as a child was gone too with a double promoted four times in the indigenous languages across the ninth edition was funny i started during a memory \\n',\n",
       " 'him to report that to the maoris of compelling attitude that many native language revitalization said \\n',\n",
       " 'my last speakers were dropping like i spent many ways is a woman during labor \\n',\n",
       " 'they left in stark contrast to farrar sing \\n',\n",
       " 'never become strong enough of siblings \\n',\n",
       " 'this belief is regulated by the hottest educational tickets in in the baby showers were also gives good as more skeptical sixth grade like to have all be in law yet passed quickly \\n']"
      ]
     },
     "execution_count": 25,
     "metadata": {},
     "output_type": "execute_result"
    }
   ],
   "source": [
    "eng_words_models[1].gen_trayect(20)"
   ]
  },
  {
   "cell_type": "markdown",
   "metadata": {
    "id": "xgnK4_p7hZC8"
   },
   "source": [
    "Modelo inglés, $k=2$:"
   ]
  },
  {
   "cell_type": "code",
   "execution_count": null,
   "metadata": {
    "colab": {
     "base_uri": "https://localhost:8080/"
    },
    "id": "Ud_AQjkGhZC9",
    "outputId": "12e61918-0a48-438c-9287-01263e7bc63e"
   },
   "outputs": [
    {
     "data": {
      "text/plain": [
       "['meantime the prospects for funding the punana leo school said that it can not have a goal namely the conversion of the sterile pack to clamp and cut the pattern for the laboring woman watched \\n',\n",
       " 'as vitus bering s life when she is a major consideration until several years after the birth of the dynamics involved in a decision that changed my life with the st \\n',\n",
       " 'the husband was the founder in of a language and the only thing the walkers arrived in chiang mai just this year and her fresh stories made david s which was perhaps the best jobs in the early sixties and as the time the woman is spiritually joined to both the past years including more than any of cavan s predecessors had shown \\n',\n",
       " 'a measure that might have general pratt turning over in marin while tommy recuperated and we d work on my drumming in the individual and in my generation who speak the language was made a small one lane bridge at its mouth and nose \\n',\n",
       " 'but sea lions in alaska a number of deg hit an ingalik athabasken people have been started that utilizes master speakers who teach entire families who then use the bathroom and when the hills and limping from village to village as he had and said he would be in school cared to hear in both dyalo and english \\n',\n",
       " 'we never saw her street \\n',\n",
       " 'not to be corrected by a street stall would be fine if they did every test they knew the appropriate way \\n',\n",
       " 'she was not her husband her master or something there were no children teenagers or year olds who could stop at this period the jews till their wars with the britannica to the movies if they did not need the student deferment \\n',\n",
       " 'richard little bear that appears at the knoxville museum of art in francis graffeo general director and conductor of the class started during it had as many as sea lions sea otters fur seals percent of alaska that tickles the chin of russia \\n',\n",
       " 'in several hospital nurses i poke with said that a puffin chick will have to feed them all day writing this incredible music and practicing guitar like he s not fighting to protect their livelihood and their families with intellectual aspirations \\n',\n",
       " 'neon casts ambient light on the couch absorbed in an upright supported position during labor he sang blessingway songs \\n',\n",
       " 'the songs of the article the morality and legality of suicide with more empathy than any of cavan s predecessors had shown \\n',\n",
       " 'like buckle and hooper littlejohn regards suicide as a professional and did n t \\n',\n",
       " 'but her wartime experience and avoid any distraction \\n',\n",
       " 'i came back every night i could n t you weep \\n',\n",
       " 'some weird discrepant glitch in reality \\n',\n",
       " 'i am not a suicidal person myself my fascination is i suppose partly voyeuristic and partly scientific \\n',\n",
       " 'she was his mistress \\n',\n",
       " 'flower you know \\n',\n",
       " 'fish landings \\n']"
      ]
     },
     "execution_count": 26,
     "metadata": {},
     "output_type": "execute_result"
    }
   ],
   "source": [
    "eng_words_models[2].gen_trayect(20)"
   ]
  },
  {
   "cell_type": "markdown",
   "metadata": {
    "id": "8ws3wr5QhZC_"
   },
   "source": [
    "Modelo inglés, $k=4$:"
   ]
  },
  {
   "cell_type": "code",
   "execution_count": null,
   "metadata": {
    "colab": {
     "base_uri": "https://localhost:8080/"
    },
    "id": "nVKIaWTfhZC_",
    "outputId": "20854270-20f0-4c09-c74c-7f87c0eba0e5"
   },
   "outputs": [
    {
     "data": {
      "text/plain": [
       "['the woman took her hair down and removed her jewelry and anything else that might be binding to her \\n',\n",
       " 'here goes my secret spot the \\n',\n",
       " 'between sets he went up handed his card to paine said something \\n',\n",
       " 'you got me \\n',\n",
       " 'photo black white labor in upright supported position \\n',\n",
       " 'have you noticed how people then looked older i mean you look at bogart or those guys from the old movies when they were forty they looked ancient \\n',\n",
       " 'to go for another physical at the draft board i d quit screwing and eat a lot of chocolate for a couple weeks \\n',\n",
       " 'with navajo s validity as a real complex and useful language suddenly nationally acknowledged its usage increased and today this language again is spoken widely \\n',\n",
       " 'the reader can surmise what it meant to me a quarter century after i happened upon those suicide notes to be invited to contribute my own seven pages of printed text headed suicide to volume of the edition of the encyclopaedia britannica was a kind of father figure to me \\n',\n",
       " 'i wo n t hurt her he says \\n',\n",
       " 'she showed me three neat puncture scars in her right hand courtesy of a two year old seal she was trying to liberate \\n',\n",
       " 'your encyclopaedia article is masterful \\n',\n",
       " 'i was privileged \\n',\n",
       " 'we shared everything except the chicks and even some of them \\n',\n",
       " 'we ll process million pounds a day of just pollock \\n',\n",
       " 'cavan an american sociologist which was perhaps the most succinct and most comprehensive to date \\n',\n",
       " 'now i m like never trust anyone under thirty and i m getting to the point where i m getting suspicious if you re less than forty \\n',\n",
       " 'we met at a bar mitzvah in the valley san fernando not central and hit it off \\n',\n",
       " 'sidebar website exclusive find more images and field notes on the alaska maritime national wildlife refuge is transcontinental in scale \\n',\n",
       " 'they just help rescuers find your body \\n']"
      ]
     },
     "execution_count": 27,
     "metadata": {},
     "output_type": "execute_result"
    }
   ],
   "source": [
    "eng_words_models[4].gen_trayect(20)"
   ]
  },
  {
   "cell_type": "markdown",
   "metadata": {
    "id": "7A_VGI_Jh8vc"
   },
   "source": [
    "### 5. Evaluación gramática de frases\n",
    "\n",
    "Debido a las limitaciones computacionales de la aproximación por frases es complicado calcular la verosimilitud de una frase cualquiera (porque es poco probable que sus transiciones aparezcan en el corpus), especialmente con $k$ alto.\n",
    "\n",
    "En su lugar se harán algunas pruebas con $k=1$ para comprobar si podemos evaluar la corrección gramatical de una frase."
   ]
  },
  {
   "cell_type": "code",
   "execution_count": null,
   "metadata": {
    "colab": {
     "base_uri": "https://localhost:8080/"
    },
    "id": "3vlYWYU0mphH",
    "outputId": "f1a667fb-5522-496c-95b1-d1c4b43e86ed"
   },
   "outputs": [
    {
     "data": {
      "text/plain": [
       "array([-4.58136529])"
      ]
     },
     "execution_count": 42,
     "metadata": {},
     "output_type": "execute_result"
    }
   ],
   "source": [
    "esp_words_models[1].log_lik(\"eso ya se sabe\")"
   ]
  },
  {
   "cell_type": "code",
   "execution_count": null,
   "metadata": {
    "colab": {
     "base_uri": "https://localhost:8080/"
    },
    "id": "0tZA-nTWprkI",
    "outputId": "93acc011-a412-4833-9d82-4073d5c4b45c"
   },
   "outputs": [
    {
     "data": {
      "text/plain": [
       "array([-inf])"
      ]
     },
     "execution_count": 43,
     "metadata": {},
     "output_type": "execute_result"
    }
   ],
   "source": [
    "esp_words_models[1].log_lik(\"ya se sabe eso\")"
   ]
  },
  {
   "cell_type": "code",
   "execution_count": null,
   "metadata": {
    "colab": {
     "base_uri": "https://localhost:8080/"
    },
    "id": "2DONpX-RpvZY",
    "outputId": "1a235989-a397-4e92-e4a0-95cf7675892f"
   },
   "outputs": [
    {
     "data": {
      "text/plain": [
       "array([-inf])"
      ]
     },
     "execution_count": 44,
     "metadata": {},
     "output_type": "execute_result"
    }
   ],
   "source": [
    "esp_words_models[1].log_lik(\"sabe se ya eso\")"
   ]
  },
  {
   "cell_type": "code",
   "execution_count": null,
   "metadata": {
    "colab": {
     "base_uri": "https://localhost:8080/"
    },
    "id": "AfwjkJfup0Jm",
    "outputId": "ea012ddd-7a92-47d3-df14-3c07fb773482"
   },
   "outputs": [
    {
     "data": {
      "text/plain": [
       "array([-inf])"
      ]
     },
     "execution_count": 45,
     "metadata": {},
     "output_type": "execute_result"
    }
   ],
   "source": [
    "esp_words_models[1].log_lik(\"se eso ya sabe\")"
   ]
  },
  {
   "cell_type": "markdown",
   "metadata": {
    "id": "ezHMluyxp4d5"
   },
   "source": [
    "El modelo asigna probabilidad nula a versiones alteradas de la frase (incluso a la segunda, que técnicamente es correcta). \n",
    "\n",
    "En este caso, este comportamiento probablemente no corresponde a una estimación adecuada de las probabilidades de transición sino a la gran limitación de representatividad del corpus."
   ]
  },
  {
   "cell_type": "code",
   "execution_count": null,
   "metadata": {
    "colab": {
     "base_uri": "https://localhost:8080/"
    },
    "id": "UUqVU5qOqLxM",
    "outputId": "3efe0b1a-8dfe-4f23-eec0-a353775e3906"
   },
   "outputs": [
    {
     "data": {
      "text/plain": [
       "array([-3.54582327])"
      ]
     },
     "execution_count": 46,
     "metadata": {},
     "output_type": "execute_result"
    }
   ],
   "source": [
    "eng_words_models[1].log_lik(\"i would think of this\")"
   ]
  },
  {
   "cell_type": "code",
   "execution_count": null,
   "metadata": {
    "colab": {
     "base_uri": "https://localhost:8080/"
    },
    "id": "xe50V0Ivqs87",
    "outputId": "afb2e557-b14a-4c38-f2b9-997e84c71c9d"
   },
   "outputs": [
    {
     "data": {
      "text/plain": [
       "array([-inf])"
      ]
     },
     "execution_count": 47,
     "metadata": {},
     "output_type": "execute_result"
    }
   ],
   "source": [
    "eng_words_models[1].log_lik(\"of this i would think\")"
   ]
  },
  {
   "cell_type": "code",
   "execution_count": null,
   "metadata": {
    "colab": {
     "base_uri": "https://localhost:8080/"
    },
    "id": "M0MpxWhSqxjR",
    "outputId": "0751c8e3-2cda-4739-9189-38cfe826a054"
   },
   "outputs": [
    {
     "data": {
      "text/plain": [
       "array([-inf])"
      ]
     },
     "execution_count": 48,
     "metadata": {},
     "output_type": "execute_result"
    }
   ],
   "source": [
    "eng_words_models[1].log_lik(\"would i think of this\")"
   ]
  },
  {
   "cell_type": "code",
   "execution_count": null,
   "metadata": {
    "colab": {
     "base_uri": "https://localhost:8080/"
    },
    "id": "yP_CKHvWreag",
    "outputId": "dbc095a8-ceec-4c1c-8479-4d742c690b27"
   },
   "outputs": [
    {
     "data": {
      "text/plain": [
       "array([-inf])"
      ]
     },
     "execution_count": 49,
     "metadata": {},
     "output_type": "execute_result"
    }
   ],
   "source": [
    "eng_words_models[1].log_lik(\"think of this i would\")"
   ]
  },
  {
   "cell_type": "markdown",
   "metadata": {
    "id": "zaqjfc4Zrh5-"
   },
   "source": [
    "Lo mismo ocurre con el modelo de inglés."
   ]
  },
  {
   "cell_type": "markdown",
   "metadata": {
    "id": "lwLbIyVCrnZ_"
   },
   "source": [
    "## **CONCLUSIONES**"
   ]
  },
  {
   "cell_type": "markdown",
   "metadata": {
    "id": "vbvrHDWKrxRq"
   },
   "source": [
    "* Los modelos del lenguaje en base a procesos estocásticos discretos son una buena herramienta para generación de palabras o frases novedosas, con el orden de aproximación $k$ como regulador del balance entre novedad y adecuación al idioma.\n",
    "\n",
    "* La aproximación por letras también tiene gran utilidad para evaluar la verosimilitud de una palabra en el idioma, lo que puede aplicarse en investigación lingüística y procesamiento de texto, por ejemplo para:\n",
    "\n",
    "  1. Cuantificación de la verosimilitud de una palabra a diferentes idiomas modernos e históricos en análisis de etimología.\n",
    "\n",
    "  2. Detección automática de outliers o palabras prestadas de otros idiomas en un texto\n",
    "\n",
    "* La aproximación por palabras es mucho más limitada (requiere más recursos computacionales y corpus más grandes), pero igualmente tiene un rendimiento aceptable en la generación de frases."
   ]
  },
  {
   "cell_type": "markdown",
   "metadata": {
    "id": "6RRBTXWYtTey"
   },
   "source": [
    "* Spark es una herramienta muy útil para realizar de forma extremadamente sencilla pero eficiente los cálculos de probabilidad necesarios para ajustar estos modelos."
   ]
  },
  {
   "cell_type": "markdown",
   "metadata": {
    "id": "clRTRvszYo14"
   },
   "source": [
    "## **RECONOCIMIENTOS**\n",
    "\n",
    "Se agradece a Sara Díaz del Ser por su ayuda en la elección del dataset utilizado y sus consejos de cara al interés lingüistico de los modelos estudiados."
   ]
  }
 ],
 "metadata": {
  "colab": {
   "collapsed_sections": [],
   "name": "MMJ_Practica_Opcional.ipynb",
   "provenance": [],
   "toc_visible": true
  },
  "kernelspec": {
   "display_name": "Python 3",
   "language": "python",
   "name": "python3"
  },
  "language_info": {
   "codemirror_mode": {
    "name": "ipython",
    "version": 3
   },
   "file_extension": ".py",
   "mimetype": "text/x-python",
   "name": "python",
   "nbconvert_exporter": "python",
   "pygments_lexer": "ipython3",
   "version": "3.8.10"
  }
 },
 "nbformat": 4,
 "nbformat_minor": 1
}
